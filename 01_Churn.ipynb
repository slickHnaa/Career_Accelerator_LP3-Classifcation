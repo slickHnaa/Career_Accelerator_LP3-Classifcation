{
  "cells": [
    {
      "cell_type": "markdown",
      "metadata": {
        "id": "view-in-github",
        "colab_type": "text"
      },
      "source": [
        "<a href=\"https://colab.research.google.com/github/slickHnaa/Career_Accelerator_LP3-Classifcation/blob/main/01_Churn.ipynb\" target=\"_parent\"><img src=\"https://colab.research.google.com/assets/colab-badge.svg\" alt=\"Open In Colab\"/></a>"
      ]
    },
    {
      "cell_type": "code",
      "source": [
        "from google.colab import drive\n",
        "drive.mount('/content/drive')"
      ],
      "metadata": {
        "colab": {
          "base_uri": "https://localhost:8080/",
          "height": 329
        },
        "id": "O9O5nlfXeoHx",
        "outputId": "25be4644-07da-432c-f6a8-4daebcb87ca2"
      },
      "id": "O9O5nlfXeoHx",
      "execution_count": 1,
      "outputs": [
        {
          "output_type": "error",
          "ename": "MessageError",
          "evalue": "ignored",
          "traceback": [
            "\u001b[0;31m---------------------------------------------------------------------------\u001b[0m",
            "\u001b[0;31mMessageError\u001b[0m                              Traceback (most recent call last)",
            "\u001b[0;32m<ipython-input-1-d5df0069828e>\u001b[0m in \u001b[0;36m<cell line: 2>\u001b[0;34m()\u001b[0m\n\u001b[1;32m      1\u001b[0m \u001b[0;32mfrom\u001b[0m \u001b[0mgoogle\u001b[0m\u001b[0;34m.\u001b[0m\u001b[0mcolab\u001b[0m \u001b[0;32mimport\u001b[0m \u001b[0mdrive\u001b[0m\u001b[0;34m\u001b[0m\u001b[0;34m\u001b[0m\u001b[0m\n\u001b[0;32m----> 2\u001b[0;31m \u001b[0mdrive\u001b[0m\u001b[0;34m.\u001b[0m\u001b[0mmount\u001b[0m\u001b[0;34m(\u001b[0m\u001b[0;34m'/content/drive'\u001b[0m\u001b[0;34m)\u001b[0m\u001b[0;34m\u001b[0m\u001b[0;34m\u001b[0m\u001b[0m\n\u001b[0m",
            "\u001b[0;32m/usr/local/lib/python3.10/dist-packages/google/colab/drive.py\u001b[0m in \u001b[0;36mmount\u001b[0;34m(mountpoint, force_remount, timeout_ms, readonly)\u001b[0m\n\u001b[1;32m    101\u001b[0m \u001b[0;32mdef\u001b[0m \u001b[0mmount\u001b[0m\u001b[0;34m(\u001b[0m\u001b[0mmountpoint\u001b[0m\u001b[0;34m,\u001b[0m \u001b[0mforce_remount\u001b[0m\u001b[0;34m=\u001b[0m\u001b[0;32mFalse\u001b[0m\u001b[0;34m,\u001b[0m \u001b[0mtimeout_ms\u001b[0m\u001b[0;34m=\u001b[0m\u001b[0;36m120000\u001b[0m\u001b[0;34m,\u001b[0m \u001b[0mreadonly\u001b[0m\u001b[0;34m=\u001b[0m\u001b[0;32mFalse\u001b[0m\u001b[0;34m)\u001b[0m\u001b[0;34m:\u001b[0m\u001b[0;34m\u001b[0m\u001b[0;34m\u001b[0m\u001b[0m\n\u001b[1;32m    102\u001b[0m   \u001b[0;34m\"\"\"Mount your Google Drive at the specified mountpoint path.\"\"\"\u001b[0m\u001b[0;34m\u001b[0m\u001b[0;34m\u001b[0m\u001b[0m\n\u001b[0;32m--> 103\u001b[0;31m   return _mount(\n\u001b[0m\u001b[1;32m    104\u001b[0m       \u001b[0mmountpoint\u001b[0m\u001b[0;34m,\u001b[0m\u001b[0;34m\u001b[0m\u001b[0;34m\u001b[0m\u001b[0m\n\u001b[1;32m    105\u001b[0m       \u001b[0mforce_remount\u001b[0m\u001b[0;34m=\u001b[0m\u001b[0mforce_remount\u001b[0m\u001b[0;34m,\u001b[0m\u001b[0;34m\u001b[0m\u001b[0;34m\u001b[0m\u001b[0m\n",
            "\u001b[0;32m/usr/local/lib/python3.10/dist-packages/google/colab/drive.py\u001b[0m in \u001b[0;36m_mount\u001b[0;34m(mountpoint, force_remount, timeout_ms, ephemeral, readonly)\u001b[0m\n\u001b[1;32m    130\u001b[0m   )\n\u001b[1;32m    131\u001b[0m   \u001b[0;32mif\u001b[0m \u001b[0mephemeral\u001b[0m\u001b[0;34m:\u001b[0m\u001b[0;34m\u001b[0m\u001b[0;34m\u001b[0m\u001b[0m\n\u001b[0;32m--> 132\u001b[0;31m     _message.blocking_request(\n\u001b[0m\u001b[1;32m    133\u001b[0m         \u001b[0;34m'request_auth'\u001b[0m\u001b[0;34m,\u001b[0m \u001b[0mrequest\u001b[0m\u001b[0;34m=\u001b[0m\u001b[0;34m{\u001b[0m\u001b[0;34m'authType'\u001b[0m\u001b[0;34m:\u001b[0m \u001b[0;34m'dfs_ephemeral'\u001b[0m\u001b[0;34m}\u001b[0m\u001b[0;34m,\u001b[0m \u001b[0mtimeout_sec\u001b[0m\u001b[0;34m=\u001b[0m\u001b[0;32mNone\u001b[0m\u001b[0;34m\u001b[0m\u001b[0;34m\u001b[0m\u001b[0m\n\u001b[1;32m    134\u001b[0m     )\n",
            "\u001b[0;32m/usr/local/lib/python3.10/dist-packages/google/colab/_message.py\u001b[0m in \u001b[0;36mblocking_request\u001b[0;34m(request_type, request, timeout_sec, parent)\u001b[0m\n\u001b[1;32m    174\u001b[0m       \u001b[0mrequest_type\u001b[0m\u001b[0;34m,\u001b[0m \u001b[0mrequest\u001b[0m\u001b[0;34m,\u001b[0m \u001b[0mparent\u001b[0m\u001b[0;34m=\u001b[0m\u001b[0mparent\u001b[0m\u001b[0;34m,\u001b[0m \u001b[0mexpect_reply\u001b[0m\u001b[0;34m=\u001b[0m\u001b[0;32mTrue\u001b[0m\u001b[0;34m\u001b[0m\u001b[0;34m\u001b[0m\u001b[0m\n\u001b[1;32m    175\u001b[0m   )\n\u001b[0;32m--> 176\u001b[0;31m   \u001b[0;32mreturn\u001b[0m \u001b[0mread_reply_from_input\u001b[0m\u001b[0;34m(\u001b[0m\u001b[0mrequest_id\u001b[0m\u001b[0;34m,\u001b[0m \u001b[0mtimeout_sec\u001b[0m\u001b[0;34m)\u001b[0m\u001b[0;34m\u001b[0m\u001b[0;34m\u001b[0m\u001b[0m\n\u001b[0m",
            "\u001b[0;32m/usr/local/lib/python3.10/dist-packages/google/colab/_message.py\u001b[0m in \u001b[0;36mread_reply_from_input\u001b[0;34m(message_id, timeout_sec)\u001b[0m\n\u001b[1;32m    101\u001b[0m     ):\n\u001b[1;32m    102\u001b[0m       \u001b[0;32mif\u001b[0m \u001b[0;34m'error'\u001b[0m \u001b[0;32min\u001b[0m \u001b[0mreply\u001b[0m\u001b[0;34m:\u001b[0m\u001b[0;34m\u001b[0m\u001b[0;34m\u001b[0m\u001b[0m\n\u001b[0;32m--> 103\u001b[0;31m         \u001b[0;32mraise\u001b[0m \u001b[0mMessageError\u001b[0m\u001b[0;34m(\u001b[0m\u001b[0mreply\u001b[0m\u001b[0;34m[\u001b[0m\u001b[0;34m'error'\u001b[0m\u001b[0;34m]\u001b[0m\u001b[0;34m)\u001b[0m\u001b[0;34m\u001b[0m\u001b[0;34m\u001b[0m\u001b[0m\n\u001b[0m\u001b[1;32m    104\u001b[0m       \u001b[0;32mreturn\u001b[0m \u001b[0mreply\u001b[0m\u001b[0;34m.\u001b[0m\u001b[0mget\u001b[0m\u001b[0;34m(\u001b[0m\u001b[0;34m'data'\u001b[0m\u001b[0;34m,\u001b[0m \u001b[0;32mNone\u001b[0m\u001b[0;34m)\u001b[0m\u001b[0;34m\u001b[0m\u001b[0;34m\u001b[0m\u001b[0m\n\u001b[1;32m    105\u001b[0m \u001b[0;34m\u001b[0m\u001b[0m\n",
            "\u001b[0;31mMessageError\u001b[0m: Error: credential propagation was unsuccessful"
          ]
        }
      ]
    },
    {
      "cell_type": "markdown",
      "id": "bb426df8",
      "metadata": {
        "id": "bb426df8"
      },
      "source": [
        "# **Questions**\n",
        "\n",
        "Do senior citizens have a higher churn rate than others?\n",
        "\n",
        "Do customers with dependents have higher church rates?\n",
        "\n",
        "Does age and gender contribute to the churn rate?\n",
        "\n",
        "Is there a relationship between tunure and churn rate?\n",
        "\n",
        "Does the contract term affect the churn rate?\n",
        "\n",
        "Does number of services signed on to affect churn rate?"
      ]
    },
    {
      "cell_type": "markdown",
      "id": "5b10ec51",
      "metadata": {
        "id": "5b10ec51"
      },
      "source": [
        "# **Hypothesis**\n",
        "\n",
        "The contract term affects attrition\n",
        "\n",
        "\n",
        "**Null Hypothesis**\n",
        "\n",
        "The contract tern does not affect attrition \n",
        "\n",
        "\n",
        "**Alternate hypothesis**\n",
        "\n",
        "The contract term affects attrition"
      ]
    },
    {
      "cell_type": "code",
      "execution_count": null,
      "id": "9bd8cde3",
      "metadata": {
        "id": "9bd8cde3"
      },
      "outputs": [],
      "source": [
        "import numpy as np\n",
        "import pandas as pd\n",
        "import matplotlib.pyplot as plt\n",
        "import seaborn as sns\n",
        "import warnings\n",
        "\n",
        "#relevant ML libraries\n",
        "from imblearn.over_sampling import ADASYN\n",
        "from collections import Counter\n",
        "from sklearn.preprocessing import LabelEncoder\n",
        "from sklearn.preprocessing import OneHotEncoder\n",
        "from sklearn import preprocessing\n",
        "from sklearn.preprocessing import StandardScaler\n",
        "from sklearn.model_selection import train_test_split\n",
        "from sklearn.model_selection import cross_val_score\n",
        "from sklearn.model_selection import KFold,StratifiedKFold,RepeatedStratifiedKFold\n",
        "from sklearn.model_selection import GridSearchCV\n",
        "from sklearn.metrics import confusion_matrix\n",
        "from sklearn.metrics import classification_report\n",
        "from sklearn.metrics import accuracy_score\n",
        "from sklearn.metrics import roc_auc_score\n",
        "from sklearn.metrics import roc_curve\n",
        "from sklearn.metrics import precision_score, recall_score, f1_score\n",
        "import sklearn.metrics as metrics\n",
        "from sklearn.neighbors import LocalOutlierFactor\n",
        "\n",
        "\n",
        "\n",
        "#ML models\n",
        "from sklearn.tree import DecisionTreeClassifier\n",
        "from sklearn.ensemble import RandomForestClassifier\n",
        "from sklearn.linear_model import LogisticRegression\n",
        "from sklearn.neighbors import KNeighborsClassifier\n",
        "from sklearn.ensemble import GradientBoostingClassifier\n",
        "from sklearn.ensemble import HistGradientBoostingClassifier\n",
        "from sklearn.ensemble import AdaBoostClassifier\n",
        "\n",
        "from sklearn.ensemble import ExtraTreesClassifier\n",
        "from sklearn.svm import SVC\n",
        "from sklearn.linear_model import RidgeClassifier\n",
        "\n",
        "warnings.filterwarnings('ignore')"
      ]
    },
    {
      "cell_type": "code",
      "execution_count": null,
      "id": "8f110407",
      "metadata": {
        "scrolled": true,
        "id": "8f110407"
      },
      "outputs": [],
      "source": [
        "c_data = pd.read_csv('/content/drive/MyDrive/Colab Notebooks/LP3/Telco-Customer-Churn.csv')\n",
        "c_data.head()"
      ]
    },
    {
      "cell_type": "markdown",
      "source": [
        "#  Exploratory Data Analysis"
      ],
      "metadata": {
        "id": "Z40OdDI25nm9"
      },
      "id": "Z40OdDI25nm9"
    },
    {
      "cell_type": "markdown",
      "source": [
        "## Data Cleaning"
      ],
      "metadata": {
        "id": "ox_QOdJ5XHkj"
      },
      "id": "ox_QOdJ5XHkj"
    },
    {
      "cell_type": "code",
      "source": [
        "c_data.shape"
      ],
      "metadata": {
        "id": "NuqQAInzX8at"
      },
      "id": "NuqQAInzX8at",
      "execution_count": null,
      "outputs": []
    },
    {
      "cell_type": "code",
      "execution_count": null,
      "id": "d35f5645",
      "metadata": {
        "scrolled": true,
        "id": "d35f5645"
      },
      "outputs": [],
      "source": [
        "c_data.info()"
      ]
    },
    {
      "cell_type": "markdown",
      "source": [
        "The total charges columns has a data type of an object instead of a float. This must be converted."
      ],
      "metadata": {
        "id": "RKSEdu_s8prp"
      },
      "id": "RKSEdu_s8prp"
    },
    {
      "cell_type": "code",
      "source": [
        "c_data['TotalCharges'] = pd.to_numeric(c_data['TotalCharges'], errors='coerce')"
      ],
      "metadata": {
        "id": "O_3fYrYZ9FRU"
      },
      "id": "O_3fYrYZ9FRU",
      "execution_count": null,
      "outputs": []
    },
    {
      "cell_type": "code",
      "source": [
        "c_data.dtypes"
      ],
      "metadata": {
        "id": "fC--rb5r9d6t"
      },
      "id": "fC--rb5r9d6t",
      "execution_count": null,
      "outputs": []
    },
    {
      "cell_type": "code",
      "execution_count": null,
      "id": "9e49d22c",
      "metadata": {
        "id": "9e49d22c"
      },
      "outputs": [],
      "source": [
        "c_data.isnull().sum()"
      ]
    },
    {
      "cell_type": "markdown",
      "source": [
        "There are 11 missing values in the Total Charge column which is very insignificant compared with the total number of entries. Therefore these missing values will be dropped"
      ],
      "metadata": {
        "id": "TTWLSpj0WTqM"
      },
      "id": "TTWLSpj0WTqM"
    },
    {
      "cell_type": "code",
      "source": [
        "# Removing missing values\n",
        "c_data.dropna(inplace=True)"
      ],
      "metadata": {
        "id": "KOMu0iItV-lN"
      },
      "id": "KOMu0iItV-lN",
      "execution_count": null,
      "outputs": []
    },
    {
      "cell_type": "code",
      "source": [
        "c_data.duplicated().sum()"
      ],
      "metadata": {
        "id": "6pMVIWFo978M"
      },
      "id": "6pMVIWFo978M",
      "execution_count": null,
      "outputs": []
    },
    {
      "cell_type": "markdown",
      "source": [
        "There is no duplicated elements in the dataset"
      ],
      "metadata": {
        "id": "G_wzEutz-Epz"
      },
      "id": "G_wzEutz-Epz"
    },
    {
      "cell_type": "code",
      "source": [
        "c_data.shape"
      ],
      "metadata": {
        "id": "al0vUUbJ954M"
      },
      "id": "al0vUUbJ954M",
      "execution_count": null,
      "outputs": []
    },
    {
      "cell_type": "markdown",
      "source": [
        "The ID column as no use and will be removed"
      ],
      "metadata": {
        "id": "WaBTdWy8Ys6_"
      },
      "id": "WaBTdWy8Ys6_"
    },
    {
      "cell_type": "code",
      "source": [
        "#removing ID column\n",
        "c_data = c_data.iloc[:,1:]"
      ],
      "metadata": {
        "id": "5MgZ7q97Yma5"
      },
      "id": "5MgZ7q97Yma5",
      "execution_count": null,
      "outputs": []
    },
    {
      "cell_type": "code",
      "source": [
        "for column in c_data.columns:\n",
        "  print(column, ':', c_data[column].nunique())\n"
      ],
      "metadata": {
        "id": "_5TAg6mmJyPO"
      },
      "id": "_5TAg6mmJyPO",
      "execution_count": null,
      "outputs": []
    },
    {
      "cell_type": "code",
      "source": [
        "LE = preprocessing.LabelEncoder()\n",
        "c_data['Churn'] = LE.fit_transform(c_data['Churn'])\n",
        "c_data.head()"
      ],
      "metadata": {
        "id": "7coJVsg8Z-5q"
      },
      "id": "7coJVsg8Z-5q",
      "execution_count": null,
      "outputs": []
    },
    {
      "cell_type": "markdown",
      "id": "387e9523",
      "metadata": {
        "id": "387e9523"
      },
      "source": [
        "# Univariate and Bivariate Analysis"
      ]
    },
    {
      "cell_type": "markdown",
      "id": "11569f22",
      "metadata": {
        "id": "11569f22"
      },
      "source": [
        "## Univariate Analysis"
      ]
    },
    {
      "cell_type": "raw",
      "id": "a0a6f854",
      "metadata": {
        "id": "a0a6f854"
      },
      "source": [
        "\n",
        "Here we use the describe() method to calculate some statistical data like percentile, mean and std of the numerical values of the Churn DataFrame. The output reveals important "
      ]
    },
    {
      "cell_type": "code",
      "execution_count": null,
      "id": "608e7d6a",
      "metadata": {
        "id": "608e7d6a"
      },
      "outputs": [],
      "source": [
        "c_data.describe().T"
      ]
    },
    {
      "cell_type": "markdown",
      "source": [
        "## **What is the distribution of Billing?**\n",
        "Billing include the following headings\n",
        "- Tenure\n",
        "- Contract\n",
        "- Paperles Billing\n",
        "- Payment Method\n",
        "- Monthly Charge\n",
        "- Total Charge"
      ],
      "metadata": {
        "id": "m_0WZvCqnQzI"
      },
      "id": "m_0WZvCqnQzI"
    },
    {
      "cell_type": "code",
      "source": [],
      "metadata": {
        "id": "V0dTxo-fnOLk"
      },
      "id": "V0dTxo-fnOLk",
      "execution_count": null,
      "outputs": []
    },
    {
      "cell_type": "markdown",
      "id": "da5b9cc7",
      "metadata": {
        "id": "da5b9cc7"
      },
      "source": [
        "#### Monthly Charges\n",
        "\n"
      ]
    },
    {
      "cell_type": "code",
      "execution_count": null,
      "id": "a174fc9b",
      "metadata": {
        "scrolled": false,
        "id": "a174fc9b"
      },
      "outputs": [],
      "source": [
        "sns.histplot(x = 'MonthlyCharges', data = c_data).set(title = 'distribution of Monthly Charges')"
      ]
    },
    {
      "cell_type": "markdown",
      "source": [
        "#### Most customers are charged \\$20. Generally, the distribution of monthly charges is skewed to the right. Apart from \\$20, most customers are charged between \\$40 to \\$110."
      ],
      "metadata": {
        "id": "D5YliRGtA633"
      },
      "id": "D5YliRGtA633"
    },
    {
      "cell_type": "markdown",
      "id": "b4c22954",
      "metadata": {
        "id": "b4c22954"
      },
      "source": [
        "#### Tenure"
      ]
    },
    {
      "cell_type": "code",
      "execution_count": null,
      "id": "21be9950",
      "metadata": {
        "id": "21be9950"
      },
      "outputs": [],
      "source": [
        "sns.histplot(x = 'tenure', data = c_data).set(title = 'Tunure Across Board')"
      ]
    },
    {
      "cell_type": "markdown",
      "source": [
        "A lot of new customers sign up for the services and stay generally for 74 months."
      ],
      "metadata": {
        "id": "2I6Jlf3G-8vI"
      },
      "id": "2I6Jlf3G-8vI"
    },
    {
      "cell_type": "markdown",
      "source": [
        "#### Paperless Billing"
      ],
      "metadata": {
        "id": "CahCJVIHEKUL"
      },
      "id": "CahCJVIHEKUL"
    },
    {
      "cell_type": "code",
      "source": [
        "ax = sns.countplot(x='PaperlessBilling',data=c_data)\n",
        "vc = c_data['PaperlessBilling'].value_counts()\n",
        "for p in ax.patches:\n",
        "    # Get the x and y coordinates of the bar\n",
        "    x_coord = p.get_x() + p.get_width() / 2\n",
        "    y_coord = p.get_height()\n",
        "    \n",
        "    # Format the text you want to display as the annotation\n",
        "    count = int(y_coord)  # Convert the count to an integer if needed\n",
        "    text = f'{count}'  # Customize the text as desired\n",
        "    \n",
        "    # Add the annotation to the plot\n",
        "    ax.text(x=x_coord, y=y_coord/2, s=text, ha='center', va='bottom')\n",
        "plt.tight_layout()\n",
        "plt.title('Count of Customers Paperless Billing')\n",
        "plt.show()"
      ],
      "metadata": {
        "id": "_aitDrUqtAA2"
      },
      "id": "_aitDrUqtAA2",
      "execution_count": null,
      "outputs": []
    },
    {
      "cell_type": "markdown",
      "source": [
        "#### Payment Method"
      ],
      "metadata": {
        "id": "Bda8p3eLEdlm"
      },
      "id": "Bda8p3eLEdlm"
    },
    {
      "cell_type": "code",
      "source": [
        "ax = sns.countplot(x='PaymentMethod',data=c_data)\n",
        "vc = c_data['PaymentMethod'].value_counts()\n",
        "for p in ax.patches:\n",
        "    # Get the x and y coordinates of the bar\n",
        "    x_coord = p.get_x() + p.get_width() / 2\n",
        "    y_coord = p.get_height()\n",
        "    \n",
        "    # Format the text you want to display as the annotation\n",
        "    count = int(y_coord)  # Convert the count to an integer if needed\n",
        "    text = f'{count}'  # Customize the text as desired\n",
        "    \n",
        "    # Add the annotation to the plot\n",
        "    ax.text(x=x_coord, y=y_coord/2, s=text, ha='center', va='bottom')\n",
        "plt.tight_layout()\n",
        "plt.title('Count of Customers  Payment Method')\n",
        "plt.show()"
      ],
      "metadata": {
        "id": "4ACqh4YLphwY"
      },
      "id": "4ACqh4YLphwY",
      "execution_count": null,
      "outputs": []
    },
    {
      "cell_type": "code",
      "source": [
        "ax = sns.countplot(x='PaymentMethod',data=c_data)\n",
        "vc = c_data['PaymentMethod'].value_counts()\n",
        "for p in ax.patches:\n",
        "    # Get the x and y coordinates of the bar\n",
        "    x_coord = p.get_x() + p.get_width() / 2\n",
        "    y_coord = p.get_height()\n",
        "    \n",
        "    # Format the text you want to display as the annotation\n",
        "    count = int(y_coord)  # Convert the count to an integer if needed\n",
        "    text = f'{count}'  # Customize the text as desired\n",
        "    \n",
        "    # Add the annotation to the plot\n",
        "    ax.text(x=x_coord, y=y_coord/2, s=text, ha='center', va='bottom')\n",
        "plt.tight_layout()\n",
        "plt.title('Count of Customers  Payment Method')\n",
        "plt.show()"
      ],
      "metadata": {
        "id": "ANwyCfMEuWvW"
      },
      "id": "ANwyCfMEuWvW",
      "execution_count": null,
      "outputs": []
    },
    {
      "cell_type": "markdown",
      "source": [
        "#### Distribution of Monthly Charges"
      ],
      "metadata": {
        "id": "OWz7KvqM5F0w"
      },
      "id": "OWz7KvqM5F0w"
    },
    {
      "cell_type": "code",
      "source": [
        "sns.histplot(x = 'MonthlyCharges', data = c_data).set(title = 'Distribution of Monthly Charges')"
      ],
      "metadata": {
        "id": "EeAJkJqm1mSo"
      },
      "id": "EeAJkJqm1mSo",
      "execution_count": null,
      "outputs": []
    },
    {
      "cell_type": "code",
      "source": [
        "sns.histplot(x = 'TotalCharges', data = c_data).set(title = 'Distribution of Total Charges')\n"
      ],
      "metadata": {
        "id": "P46EB8Hk1pe0"
      },
      "id": "P46EB8Hk1pe0",
      "execution_count": null,
      "outputs": []
    },
    {
      "cell_type": "code",
      "source": [
        "      "
      ],
      "metadata": {
        "id": "sQWA5fBtpgQn"
      },
      "id": "sQWA5fBtpgQn",
      "execution_count": null,
      "outputs": []
    },
    {
      "cell_type": "markdown",
      "source": [
        "#### Count of Customers  Contract"
      ],
      "metadata": {
        "id": "PDb5jH35CUAU"
      },
      "id": "PDb5jH35CUAU"
    },
    {
      "cell_type": "code",
      "source": [
        "ax = sns.countplot(x='Contract',data=c_data)\n",
        "vc = c_data['Contract'].value_counts()\n",
        "for p in ax.patches:\n",
        "    # Get the x and y coordinates of the bar\n",
        "    x_coord = p.get_x() + p.get_width() / 2\n",
        "    y_coord = p.get_height()\n",
        "    \n",
        "    # Format the text you want to display as the annotation\n",
        "    count = int(y_coord)  # Convert the count to an integer if needed\n",
        "    text = f'{count}'  # Customize the text as desired\n",
        "    \n",
        "    # Add the annotation to the plot\n",
        "    ax.text(x=x_coord, y=y_coord/2, s=text, ha='center', va='bottom')\n",
        "plt.tight_layout()\n",
        "plt.title('Count of Customers  Contract')\n",
        "plt.show()"
      ],
      "metadata": {
        "id": "Vwq8M0_IIrXN"
      },
      "id": "Vwq8M0_IIrXN",
      "execution_count": null,
      "outputs": []
    },
    {
      "cell_type": "code",
      "source": [],
      "metadata": {
        "id": "52bImOvFm98z"
      },
      "id": "52bImOvFm98z",
      "execution_count": null,
      "outputs": []
    },
    {
      "cell_type": "code",
      "source": [],
      "metadata": {
        "id": "7qAAeWfGm8_P"
      },
      "id": "7qAAeWfGm8_P",
      "execution_count": null,
      "outputs": []
    },
    {
      "cell_type": "code",
      "source": [],
      "metadata": {
        "id": "RrQLvM_Bm8Cb"
      },
      "id": "RrQLvM_Bm8Cb",
      "execution_count": null,
      "outputs": []
    },
    {
      "cell_type": "code",
      "source": [],
      "metadata": {
        "id": "orMLcjB7m6w1"
      },
      "id": "orMLcjB7m6w1",
      "execution_count": null,
      "outputs": []
    },
    {
      "cell_type": "code",
      "source": [],
      "metadata": {
        "id": "mRbWa5hTm5QI"
      },
      "id": "mRbWa5hTm5QI",
      "execution_count": null,
      "outputs": []
    },
    {
      "cell_type": "code",
      "source": [],
      "metadata": {
        "id": "oBbmkirwm4Qu"
      },
      "id": "oBbmkirwm4Qu",
      "execution_count": null,
      "outputs": []
    },
    {
      "cell_type": "markdown",
      "id": "6c5039f2",
      "metadata": {
        "id": "6c5039f2"
      },
      "source": [
        "### Count of Customer who Churn or not"
      ]
    },
    {
      "cell_type": "code",
      "execution_count": null,
      "id": "dab1b402",
      "metadata": {
        "scrolled": true,
        "id": "dab1b402"
      },
      "outputs": [],
      "source": [
        "ax = sns.countplot(x='Churn',data=c_data, palette='rainbow')\n",
        "vc = c_data['Churn'].value_counts()\n",
        "for p in ax.patches:\n",
        "    # Get the x and y coordinates of the bar\n",
        "    x_coord = p.get_x() + p.get_width() / 2\n",
        "    y_coord = p.get_height()\n",
        "    \n",
        "    # Format the text you want to display as the annotation\n",
        "    count = int(y_coord)  # Convert the count to an integer if needed\n",
        "    text = f'{count}'  # Customize the text as desired\n",
        "    \n",
        "    # Add the annotation to the plot\n",
        "    ax.text(x=x_coord, y=y_coord/2, s=text, ha='center', va='bottom')\n",
        "plt.tight_layout()\n",
        "plt.title('Count of Customer who Churn or not')\n",
        "plt.show()"
      ]
    },
    {
      "cell_type": "markdown",
      "source": [
        "5174 customers did not churn whiles 1869 churn. This makes target variable inblances"
      ],
      "metadata": {
        "id": "kgaGDLebG4Jv"
      },
      "id": "kgaGDLebG4Jv"
    },
    {
      "cell_type": "markdown",
      "source": [
        "### Exploration Into Customer"
      ],
      "metadata": {
        "id": "xY3CswjD7I3t"
      },
      "id": "xY3CswjD7I3t"
    },
    {
      "cell_type": "markdown",
      "id": "f851be0b",
      "metadata": {
        "id": "f851be0b"
      },
      "source": [
        "#### Count of Gender"
      ]
    },
    {
      "cell_type": "code",
      "source": [
        "ax = sns.countplot(x='gender',data=c_data)\n",
        "vc = c_data['gender'].value_counts()\n",
        "for p in ax.patches:\n",
        "    # Get the x and y coordinates of the bar\n",
        "    x_coord = p.get_x() + p.get_width() / 2\n",
        "    y_coord = p.get_height()\n",
        "    \n",
        "    # Format the text you want to display as the annotation\n",
        "    count = int(y_coord)  # Convert the count to an integer if needed\n",
        "    text = f'{count}'  # Customize the text as desired\n",
        "    \n",
        "    # Add the annotation to the plot\n",
        "    ax.text(x=x_coord, y=y_coord/2, s=text, ha='center', va='bottom')\n",
        "plt.tight_layout()\n",
        "plt.title('Count of Gender')\n",
        "plt.show()"
      ],
      "metadata": {
        "id": "UK9G40ydogdq"
      },
      "id": "UK9G40ydogdq",
      "execution_count": null,
      "outputs": []
    },
    {
      "cell_type": "markdown",
      "source": [
        "The dataset contains 3488 females and 3555 males"
      ],
      "metadata": {
        "id": "6_o_iRrAGnS4"
      },
      "id": "6_o_iRrAGnS4"
    },
    {
      "cell_type": "markdown",
      "source": [
        "#### Count of Customers with Partner"
      ],
      "metadata": {
        "id": "mYN3wsWF8aV9"
      },
      "id": "mYN3wsWF8aV9"
    },
    {
      "cell_type": "code",
      "source": [
        "ax = sns.countplot(x='Partner',data=c_data)\n",
        "vc = c_data['Partner'].value_counts()\n",
        "for p in ax.patches:\n",
        "    # Get the x and y coordinates of the bar\n",
        "    x_coord = p.get_x() + p.get_width() / 2\n",
        "    y_coord = p.get_height()\n",
        "    \n",
        "    # Format the text you want to display as the annotation\n",
        "    count = int(y_coord)  # Convert the count to an integer if needed\n",
        "    text = f'{count}'  # Customize the text as desired\n",
        "    \n",
        "    # Add the annotation to the plot\n",
        "    ax.text(x=x_coord, y=y_coord/2, s=text, ha='center', va='bottom')\n",
        "plt.tight_layout()\n",
        "plt.title('Count of Customers with Partner')\n",
        "plt.show()"
      ],
      "metadata": {
        "id": "8DJoYOBH8g6q"
      },
      "id": "8DJoYOBH8g6q",
      "execution_count": null,
      "outputs": []
    },
    {
      "cell_type": "markdown",
      "source": [
        "The difference between customers with partners and those without partner is 243 which is approximately 3.45% of all customers"
      ],
      "metadata": {
        "id": "jMB74oDR9JbJ"
      },
      "id": "jMB74oDR9JbJ"
    },
    {
      "cell_type": "markdown",
      "id": "eac6f06b",
      "metadata": {
        "id": "eac6f06b"
      },
      "source": [
        "#### Count of Customers with Dependents"
      ]
    },
    {
      "cell_type": "code",
      "execution_count": null,
      "id": "7563e14c",
      "metadata": {
        "id": "7563e14c"
      },
      "outputs": [],
      "source": [
        "ax = sns.countplot(x='Dependents',data=c_data)\n",
        "vc = c_data['Dependents'].value_counts()\n",
        "for p in ax.patches:\n",
        "    # Get the x and y coordinates of the bar\n",
        "    x_coord = p.get_x() + p.get_width() / 2\n",
        "    y_coord = p.get_height()\n",
        "    \n",
        "    # Format the text you want to display as the annotation\n",
        "    count = int(y_coord)  # Convert the count to an integer if needed\n",
        "    text = f'{count}'  # Customize the text as desired\n",
        "    \n",
        "    # Add the annotation to the plot\n",
        "    ax.text(x=x_coord, y=y_coord/2, s=text, ha='center', va='bottom')\n",
        "plt.tight_layout()\n",
        "plt.title('Count of Customers with Dependents')\n",
        "plt.show()"
      ]
    },
    {
      "cell_type": "markdown",
      "source": [
        "About 4933 customer do not have dependents whiles 2110 have dependents "
      ],
      "metadata": {
        "id": "EgYgh1r_HkCB"
      },
      "id": "EgYgh1r_HkCB"
    },
    {
      "cell_type": "markdown",
      "source": [
        "#### Count of Senior Citizen\n"
      ],
      "metadata": {
        "id": "3XQmsLDPtR1c"
      },
      "id": "3XQmsLDPtR1c"
    },
    {
      "cell_type": "code",
      "source": [
        "ax = sns.countplot(x='SeniorCitizen', data=c_data)\n",
        "vc = c_data['SeniorCitizen'].value_counts()\n",
        "for p in ax.patches:\n",
        "    # Get the x and y coordinates of the bar\n",
        "    x_coord = p.get_x() + p.get_width() / 2\n",
        "    y_coord = p.get_height()\n",
        "    \n",
        "    # Format the text you want to display as the annotation\n",
        "    count = int(y_coord)  # Convert the count to an integer if needed\n",
        "    text = f'{count}'  # Customize the text as desired\n",
        "    \n",
        "    # Add the annotation to the plot\n",
        "    ax.text(x=x_coord, y=y_coord/2, s=text, ha='center', va='bottom')\n",
        "plt.tight_layout()\n",
        "plt.title('Count of Senior Citizen')\n",
        "plt.show()"
      ],
      "metadata": {
        "id": "gdSoZUF_t2e5"
      },
      "id": "gdSoZUF_t2e5",
      "execution_count": null,
      "outputs": []
    },
    {
      "cell_type": "markdown",
      "source": [
        "There are 5901 non senior citizen and 1142 are senior citizen."
      ],
      "metadata": {
        "id": "VL4fUDdMGBHZ"
      },
      "id": "VL4fUDdMGBHZ"
    },
    {
      "cell_type": "code",
      "source": [],
      "metadata": {
        "id": "Vn8f2fl8Iqj1"
      },
      "id": "Vn8f2fl8Iqj1",
      "execution_count": null,
      "outputs": []
    },
    {
      "cell_type": "code",
      "execution_count": null,
      "id": "7b681701",
      "metadata": {
        "id": "7b681701"
      },
      "outputs": [],
      "source": []
    },
    {
      "cell_type": "markdown",
      "id": "44bf5971",
      "metadata": {
        "id": "44bf5971"
      },
      "source": [
        "## Bivariate Analysis"
      ]
    },
    {
      "cell_type": "code",
      "source": [
        "#Term = pd.crosstab(LPcat['Term'],LPcat['Loan Status'])\n",
        "#Term.div(Term.sum(1).astype(float), axis = 0).plot(kind = 'bar',stacked = True, figsize = (6,6))\n",
        "#plt.show()"
      ],
      "metadata": {
        "id": "7XMVlAP3KCdx"
      },
      "id": "7XMVlAP3KCdx",
      "execution_count": null,
      "outputs": []
    },
    {
      "cell_type": "markdown",
      "id": "f18a9750",
      "metadata": {
        "id": "f18a9750"
      },
      "source": [
        "### Gender vs Tenure vs MonthlyCharges"
      ]
    },
    {
      "cell_type": "code",
      "execution_count": null,
      "id": "e32376e8",
      "metadata": {
        "id": "e32376e8"
      },
      "outputs": [],
      "source": [
        "sns.violinplot(x='gender',y='tenure',data=c_data,palette='rainbow').set(title = 'distribution of Monthly Charges')\n"
      ]
    },
    {
      "cell_type": "code",
      "execution_count": null,
      "id": "82dcf971",
      "metadata": {
        "id": "82dcf971"
      },
      "outputs": [],
      "source": [
        "sns.boxplot(x='gender',y='MonthlyCharges',data=c_data).set(title = 'distribution of Monthly Charges')"
      ]
    },
    {
      "cell_type": "markdown",
      "id": "48f4a9ca",
      "metadata": {
        "id": "48f4a9ca"
      },
      "source": [
        "### Dependents vs Tenure vs MonthlyCharges"
      ]
    },
    {
      "cell_type": "code",
      "execution_count": null,
      "id": "b7f22a55",
      "metadata": {
        "scrolled": true,
        "id": "b7f22a55"
      },
      "outputs": [],
      "source": [
        "sns.boxplot(x='Dependents',y='tenure',data=c_data).set(title = 'distribution of Monthly Charges')\n"
      ]
    },
    {
      "cell_type": "code",
      "execution_count": null,
      "id": "4d03dcad",
      "metadata": {
        "id": "4d03dcad"
      },
      "outputs": [],
      "source": [
        "sns.violinplot(x='Dependents',y='MonthlyCharges',data=c_data, palette='rainbow').set(title = 'distribution of Monthly Charges')\n"
      ]
    },
    {
      "cell_type": "markdown",
      "id": "62e27800",
      "metadata": {
        "id": "62e27800"
      },
      "source": [
        "### Churn vs tenure vs MonthlyCharges"
      ]
    },
    {
      "cell_type": "code",
      "execution_count": null,
      "id": "53857d2c",
      "metadata": {
        "id": "53857d2c"
      },
      "outputs": [],
      "source": [
        "sns.boxplot(x='Churn',y='tenure', data=c_data).set(title = 'distribution of Monthly Charges')\n"
      ]
    },
    {
      "cell_type": "code",
      "execution_count": null,
      "id": "50cde3aa",
      "metadata": {
        "id": "50cde3aa"
      },
      "outputs": [],
      "source": [
        "sns.violinplot(x='Churn',y='MonthlyCharges', data=c_data, palette='rainbow').set(title = 'distribution of Monthly Charges')\n"
      ]
    },
    {
      "cell_type": "markdown",
      "id": "0ac6e8e8",
      "metadata": {
        "id": "0ac6e8e8"
      },
      "source": [
        "### Pairgrid"
      ]
    },
    {
      "cell_type": "code",
      "execution_count": null,
      "id": "01ea02c0",
      "metadata": {
        "id": "01ea02c0"
      },
      "outputs": [],
      "source": [
        "pair_grid = sns.pairplot(c_data)"
      ]
    },
    {
      "cell_type": "markdown",
      "source": [
        "## Deep dive into relationship with Churn "
      ],
      "metadata": {
        "id": "TT7BCxQXPchS"
      },
      "id": "TT7BCxQXPchS"
    },
    {
      "cell_type": "markdown",
      "source": [
        "What is the relationship between Churn and all the services offerd by vodafone? \n",
        " \n",
        "The services offered by Vodafone include:\n",
        "- PhoneService         \n",
        "- MultipleLines        \n",
        "- InternetService      \n",
        "- OnlineSecurity       \n",
        "- OnlineBackup         \n",
        "- DeviceProtection     \n",
        "- TechSupport          \n",
        "- StreamingTV          \n",
        "- StreamingMovies "
      ],
      "metadata": {
        "id": "HWl7LTc1_j-S"
      },
      "id": "HWl7LTc1_j-S"
    },
    {
      "cell_type": "markdown",
      "source": [
        "#### Relationship between Phone Service and Churn\n"
      ],
      "metadata": {
        "id": "b7OPgerVPyoh"
      },
      "id": "b7OPgerVPyoh"
    },
    {
      "cell_type": "code",
      "execution_count": null,
      "id": "08984779",
      "metadata": {
        "id": "08984779"
      },
      "outputs": [],
      "source": [
        "sns.set_style('darkgrid')     \n",
        "sns.countplot(x='PhoneService', hue='Churn', data=c_data, palette='Blues')\n",
        "vc = c_data['PhoneService'].value_counts()\n",
        "for p in ax.patches:\n",
        "    # Get the x and y coordinates of the bar\n",
        "    x_coord = p.get_x() + p.get_width() / 2\n",
        "    y_coord = p.get_height()\n",
        "    \n",
        "    # Format the text you want to display as the annotation\n",
        "    count = int(y_coord)  # Convert the count to an integer if needed\n",
        "    text = f'{count}'  # Customize the text as desired\n",
        "    \n",
        "    # Add the annotation to the plot\n",
        "    ax.text(x=x_coord, y=y_coord/2, s=text, ha='center', va='bottom')\n",
        "plt.tight_layout()\n",
        "plt.title('Relationship between Phone Service and Churn')\n",
        "plt.show()"
      ]
    },
    {
      "cell_type": "markdown",
      "source": [
        "\n",
        "#### Relationship between Multiple Lines and Churn"
      ],
      "metadata": {
        "id": "ku5dWtyIGjCc"
      },
      "id": "ku5dWtyIGjCc"
    },
    {
      "cell_type": "code",
      "execution_count": null,
      "metadata": {
        "id": "UDvy3ciVGIcI"
      },
      "outputs": [],
      "source": [
        "sns.set_style('darkgrid')     \n",
        "sns.countplot(x='MultipleLines', hue='Churn', data=c_data, palette='Blues')\n",
        "vc = c_data['MultipleLines'].value_counts()\n",
        "for p in ax.patches:\n",
        "    # Get the x and y coordinates of the bar\n",
        "    x_coord = p.get_x() + p.get_width() / 2\n",
        "    y_coord = p.get_height()\n",
        "    \n",
        "    # Format the text you want to display as the annotation\n",
        "    count = int(y_coord)  # Convert the count to an integer if needed\n",
        "    text = f'{count}'  # Customize the text as desired\n",
        "    \n",
        "    # Add the annotation to the plot\n",
        "    ax.text(x=x_coord, y=y_coord/2, s=text, ha='center', va='bottom')\n",
        "plt.tight_layout()\n",
        "plt.title('Relationship between Multiple Lines and Churn')\n",
        "plt.show()"
      ],
      "id": "UDvy3ciVGIcI"
    },
    {
      "cell_type": "markdown",
      "source": [
        "#### Relationship between Online Backup and Churn   \n"
      ],
      "metadata": {
        "id": "L9W_xC75GoF-"
      },
      "id": "L9W_xC75GoF-"
    },
    {
      "cell_type": "code",
      "execution_count": null,
      "metadata": {
        "id": "1YUjA9U1GL7G"
      },
      "outputs": [],
      "source": [
        "sns.set_style('darkgrid')     \n",
        "sns.countplot(x='OnlineBackup', hue='Churn', data=c_data, palette='Blues')\n",
        "vc = c_data['OnlineBackup'].value_counts()\n",
        "for p in ax.patches:\n",
        "    # Get the x and y coordinates of the bar\n",
        "    x_coord = p.get_x() + p.get_width() / 2\n",
        "    y_coord = p.get_height()\n",
        "    \n",
        "    # Format the text you want to display as the annotation\n",
        "    count = int(y_coord)  # Convert the count to an integer if needed\n",
        "    text = f'{count}'  # Customize the text as desired\n",
        "    \n",
        "    # Add the annotation to the plot\n",
        "    ax.text(x=x_coord, y=y_coord/2, s=text, ha='center', va='bottom')\n",
        "plt.tight_layout()\n",
        "plt.title('Relationship between Online Backup and Churn')\n",
        "plt.show()"
      ],
      "id": "1YUjA9U1GL7G"
    },
    {
      "cell_type": "markdown",
      "source": [
        "#### Relationship between Online Security and Churn       \n"
      ],
      "metadata": {
        "id": "DtEuhDbVGtQP"
      },
      "id": "DtEuhDbVGtQP"
    },
    {
      "cell_type": "code",
      "execution_count": null,
      "metadata": {
        "id": "KmH-9U4eGNYY"
      },
      "outputs": [],
      "source": [
        "sns.set_style('darkgrid')     \n",
        "sns.countplot(x='OnlineSecurity', hue='Churn', data=c_data, palette='Blues')\n",
        "vc = c_data['OnlineSecurity'].value_counts()\n",
        "for p in ax.patches:\n",
        "    # Get the x and y coordinates of the bar\n",
        "    x_coord = p.get_x() + p.get_width() / 2\n",
        "    y_coord = p.get_height()\n",
        "    \n",
        "    # Format the text you want to display as the annotation\n",
        "    count = int(y_coord)  # Convert the count to an integer if needed\n",
        "    text = f'{count}'  # Customize the text as desired\n",
        "    \n",
        "    # Add the annotation to the plot\n",
        "    ax.text(x=x_coord, y=y_coord/2, s=text, ha='center', va='bottom')\n",
        "plt.tight_layout()\n",
        "plt.title('Relationship between Online Security and Churn')\n",
        "plt.show()"
      ],
      "id": "KmH-9U4eGNYY"
    },
    {
      "cell_type": "markdown",
      "source": [
        "#### Relationship between Streaming Movies and Churn "
      ],
      "metadata": {
        "id": "w79U55OqHymX"
      },
      "id": "w79U55OqHymX"
    },
    {
      "cell_type": "code",
      "execution_count": null,
      "metadata": {
        "id": "abI84fwTHIFK"
      },
      "outputs": [],
      "source": [
        "sns.set_style('darkgrid')     \n",
        "sns.countplot(x='StreamingMovies', hue='Churn', data=c_data, palette='Blues')\n",
        "vc = c_data['StreamingMovies'].value_counts()\n",
        "for p in ax.patches:\n",
        "    # Get the x and y coordinates of the bar\n",
        "    x_coord = p.get_x() + p.get_width() / 2\n",
        "    y_coord = p.get_height()\n",
        "    \n",
        "    # Format the text you want to display as the annotation\n",
        "    count = int(y_coord)  # Convert the count to an integer if needed\n",
        "    text = f'{count}'  # Customize the text as desired\n",
        "    \n",
        "    # Add the annotation to the plot\n",
        "    ax.text(x=x_coord, y=y_coord/2, s=text, ha='center', va='bottom')\n",
        "plt.tight_layout()\n",
        "plt.title('Relationship between Streaming Movies and Churn')\n",
        "plt.show()"
      ],
      "id": "abI84fwTHIFK"
    },
    {
      "cell_type": "markdown",
      "source": [
        "#### Relationship between Streaming TV and Churn          "
      ],
      "metadata": {
        "id": "hlnakX99HtRc"
      },
      "id": "hlnakX99HtRc"
    },
    {
      "cell_type": "code",
      "execution_count": null,
      "metadata": {
        "id": "Qiib0lJcHI9z"
      },
      "outputs": [],
      "source": [
        "sns.set_style('darkgrid')     \n",
        "sns.countplot(x='StreamingTV', hue='Churn', data=c_data, palette='Blues')\n",
        "vc = c_data['StreamingTV'].value_counts()\n",
        "for p in ax.patches:\n",
        "    # Get the x and y coordinates of the bar\n",
        "    x_coord = p.get_x() + p.get_width() / 2\n",
        "    y_coord = p.get_height()\n",
        "    \n",
        "    # Format the text you want to display as the annotation\n",
        "    count = int(y_coord)  # Convert the count to an integer if needed\n",
        "    text = f'{count}'  # Customize the text as desired\n",
        "    \n",
        "    # Add the annotation to the plot\n",
        "    ax.text(x=x_coord, y=y_coord/2, s=text, ha='center', va='bottom')\n",
        "plt.tight_layout()\n",
        "plt.title('Relationship between Streaming TV and Churn')\n",
        "plt.show()"
      ],
      "id": "Qiib0lJcHI9z"
    },
    {
      "cell_type": "markdown",
      "source": [
        "#### Relationship between Tech Support and Churn      "
      ],
      "metadata": {
        "id": "neJ7ruR7HnF7"
      },
      "id": "neJ7ruR7HnF7"
    },
    {
      "cell_type": "code",
      "execution_count": null,
      "metadata": {
        "id": "uW2P9hKEHKf7"
      },
      "outputs": [],
      "source": [
        "sns.set_style('darkgrid')     \n",
        "sns.countplot(x='TechSupport', hue='Churn', data=c_data, palette='Blues')\n",
        "vc = c_data['TechSupport'].value_counts()\n",
        "for p in ax.patches:\n",
        "    # Get the x and y coordinates of the bar\n",
        "    x_coord = p.get_x() + p.get_width() / 2\n",
        "    y_coord = p.get_height()\n",
        "    \n",
        "    # Format the text you want to display as the annotation\n",
        "    count = int(y_coord)  # Convert the count to an integer if needed\n",
        "    text = f'{count}'  # Customize the text as desired\n",
        "    \n",
        "    # Add the annotation to the plot\n",
        "    ax.text(x=x_coord, y=y_coord/2, s=text, ha='center', va='bottom')\n",
        "plt.tight_layout()\n",
        "plt.title('Relationship between TechSupport and Churn')\n",
        "plt.show()"
      ],
      "id": "uW2P9hKEHKf7"
    },
    {
      "cell_type": "markdown",
      "source": [
        "#### Relationship between Device Protection and Churn     "
      ],
      "metadata": {
        "id": "MS0NM1vJHRcd"
      },
      "id": "MS0NM1vJHRcd"
    },
    {
      "cell_type": "code",
      "execution_count": null,
      "metadata": {
        "id": "0wmCNZTJHWy3"
      },
      "outputs": [],
      "source": [
        "sns.set_style('darkgrid')     \n",
        "sns.countplot(x='DeviceProtection', hue='Churn', data=c_data, palette='Blues')\n",
        "vc = c_data['DeviceProtection'].value_counts()\n",
        "for p in ax.patches:\n",
        "    # Get the x and y coordinates of the bar\n",
        "    x_coord = p.get_x() + p.get_width() / 2\n",
        "    y_coord = p.get_height()\n",
        "    \n",
        "    # Format the text you want to display as the annotation\n",
        "    count = int(y_coord)  # Convert the count to an integer if needed\n",
        "    text = f'{count}'  # Customize the text as desired\n",
        "    \n",
        "    # Add the annotation to the plot\n",
        "    ax.text(x=x_coord, y=y_coord/2, s=text, ha='center', va='bottom')\n",
        "plt.tight_layout()\n",
        "plt.title('Relationship between Device Protection and Churn')\n",
        "plt.show()"
      ],
      "id": "0wmCNZTJHWy3"
    },
    {
      "cell_type": "markdown",
      "source": [
        "#### Relationship between Senior Citizen and Churn"
      ],
      "metadata": {
        "id": "QwMFs7ln-4BJ"
      },
      "id": "QwMFs7ln-4BJ"
    },
    {
      "cell_type": "code",
      "execution_count": null,
      "metadata": {
        "id": "VMvGJ1NgHLqu"
      },
      "outputs": [],
      "source": [
        "sns.set_style('darkgrid')     \n",
        "sns.countplot(x='SeniorCitizen', hue='Churn', data=c_data, palette='Blues')\n",
        "vc = c_data['SeniorCitizen'].value_counts()\n",
        "for p in ax.patches:\n",
        "    # Get the x and y coordinates of the bar\n",
        "    x_coord = p.get_x() + p.get_width() / 2\n",
        "    y_coord = p.get_height()\n",
        "    \n",
        "    # Format the text you want to display as the annotation\n",
        "    count = int(y_coord)  # Convert the count to an integer if needed\n",
        "    text = f'{count}'  # Customize the text as desired\n",
        "    \n",
        "    # Add the annotation to the plot\n",
        "    ax.text(x=x_coord, y=y_coord/2, s=text, ha='center', va='bottom')\n",
        "plt.tight_layout()\n",
        "plt.title('Relationship between Senior Citizen and Churn')\n",
        "plt.show()"
      ],
      "id": "VMvGJ1NgHLqu"
    },
    {
      "cell_type": "markdown",
      "source": [
        "-         \n"
      ],
      "metadata": {
        "id": "RLMi0JovG0SN"
      },
      "id": "RLMi0JovG0SN"
    },
    {
      "cell_type": "markdown",
      "source": [
        "#### Relationship between Internet Service and Churn\n"
      ],
      "metadata": {
        "id": "Ur5bczYJQIkg"
      },
      "id": "Ur5bczYJQIkg"
    },
    {
      "cell_type": "code",
      "source": [
        "sns.set_style('darkgrid')\n",
        "sns.countplot(x='InternetService', hue='Churn', data=c_data, palette='Blues')\n",
        "vc = c_data['InternetService'].value_counts()\n",
        "for p in ax.patches:\n",
        "    # Get the x and y coordinates of the bar\n",
        "    x_coord = p.get_x() + p.get_width() / 2\n",
        "    y_coord = p.get_height()\n",
        "    \n",
        "    # Format the text you want to display as the annotation\n",
        "    count = int(y_coord)  # Convert the count to an integer if needed\n",
        "    text = f'{count}'  # Customize the text as desired\n",
        "    \n",
        "    # Add the annotation to the plot\n",
        "    ax.text(x=x_coord, y=y_coord/2, s=text, ha='center', va='bottom')\n",
        "plt.tight_layout()\n",
        "plt.title('Relationship between Internet Service and Churn')\n",
        "plt.show()\n"
      ],
      "metadata": {
        "id": "bUns66c2MYMt"
      },
      "id": "bUns66c2MYMt",
      "execution_count": null,
      "outputs": []
    },
    {
      "cell_type": "markdown",
      "source": [
        "## Important Note"
      ],
      "metadata": {
        "id": "uIwKeBfl-uSN"
      },
      "id": "uIwKeBfl-uSN"
    },
    {
      "cell_type": "markdown",
      "source": [
        "## Multvarite Analysis"
      ],
      "metadata": {
        "id": "7C4n1HzK_klG"
      },
      "id": "7C4n1HzK_klG"
    },
    {
      "cell_type": "code",
      "source": [
        "# Multvarite \n",
        "# correlation and heatmap\n",
        "# pair plot     \n",
        "#sns.pairplot(c_data, hue='Churn')\n",
        "#sns.boxplot(x='Contract', y='MonthlyCharges', hue='Churn', data=c_data)\n"
      ],
      "metadata": {
        "id": "Ml7v3L7gQr9g"
      },
      "id": "Ml7v3L7gQr9g",
      "execution_count": null,
      "outputs": []
    },
    {
      "cell_type": "markdown",
      "source": [
        "## Encoding of Categorical Columns"
      ],
      "metadata": {
        "id": "ebwQoUyHOt28"
      },
      "id": "ebwQoUyHOt28"
    },
    {
      "cell_type": "code",
      "source": [
        "LE = LabelEncoder()\n",
        "c_data['gender'] = LE.fit_transform(c_data['gender'])\n",
        "c_data['Partner'] = LE.fit_transform(c_data['Partner'])\n",
        "c_data['Dependents'] = LE.fit_transform(c_data['Dependents'])\n",
        "c_data['PhoneService'] = LE.fit_transform(c_data['PhoneService'])\n",
        "c_data['MultipleLines'] = LE.fit_transform(c_data['MultipleLines'])\n",
        "c_data['InternetService'] = LE.fit_transform(c_data['InternetService'])\n",
        "c_data['OnlineSecurity'] = LE.fit_transform(c_data['OnlineSecurity'])\n",
        "c_data['OnlineBackup'] = LE.fit_transform(c_data['OnlineBackup'])\n",
        "c_data['DeviceProtection'] = LE.fit_transform(c_data['DeviceProtection'])\n",
        "c_data['TechSupport'] = LE.fit_transform(c_data['TechSupport'])\n",
        "c_data['StreamingTV'] = LE.fit_transform(c_data['StreamingTV'])\n",
        "c_data['StreamingMovies'] = LE.fit_transform(c_data['StreamingMovies'])\n",
        "c_data['Contract'] = LE.fit_transform(c_data['Contract'])\n",
        "c_data['PaperlessBilling'] = LE.fit_transform(c_data['PaperlessBilling'])\n",
        "c_data['PaymentMethod'] = LE.fit_transform(c_data['PaymentMethod'])"
      ],
      "metadata": {
        "id": "60aPAGJ4EmHZ"
      },
      "id": "60aPAGJ4EmHZ",
      "execution_count": null,
      "outputs": []
    },
    {
      "cell_type": "code",
      "source": [
        "c_data.info()"
      ],
      "metadata": {
        "id": "HsbyL0vDGrT-"
      },
      "id": "HsbyL0vDGrT-",
      "execution_count": null,
      "outputs": []
    },
    {
      "cell_type": "code",
      "source": [],
      "metadata": {
        "id": "cvJdwCkkEl8-"
      },
      "id": "cvJdwCkkEl8-",
      "execution_count": null,
      "outputs": []
    },
    {
      "cell_type": "code",
      "source": [],
      "metadata": {
        "id": "irsDWa67EkEL"
      },
      "id": "irsDWa67EkEL",
      "execution_count": null,
      "outputs": []
    },
    {
      "cell_type": "code",
      "source": [
        "# Compute correlation matrix\n",
        "correlation_matrix = c_data.corr()\n",
        "\n",
        "# Plot correlation matrix as a heatmap\n",
        "plt.figure(figsize=(12, 8))\n",
        "sns.heatmap(correlation_matrix, annot=True, cmap='coolwarm', fmt=\".2f\", linewidths=0.5)\n",
        "plt.title('Correlation of Variables with Churn')\n",
        "plt.show()"
      ],
      "metadata": {
        "id": "nwr2SK1oAOdC"
      },
      "id": "nwr2SK1oAOdC",
      "execution_count": null,
      "outputs": []
    },
    {
      "cell_type": "code",
      "source": [],
      "metadata": {
        "id": "n2nZTrHXANtN"
      },
      "id": "n2nZTrHXANtN",
      "execution_count": null,
      "outputs": []
    },
    {
      "cell_type": "code",
      "source": [],
      "metadata": {
        "id": "e0ASKE46ANac"
      },
      "id": "e0ASKE46ANac",
      "execution_count": null,
      "outputs": []
    },
    {
      "cell_type": "code",
      "source": [
        "#c_data.drop('customerID', axis=1, inplace=True)\n",
        "# save to csv"
      ],
      "metadata": {
        "id": "wPl3pBSsSOOX"
      },
      "id": "wPl3pBSsSOOX",
      "execution_count": null,
      "outputs": []
    },
    {
      "cell_type": "code",
      "source": [],
      "metadata": {
        "id": "KbSu9iKc9I4o"
      },
      "id": "KbSu9iKc9I4o",
      "execution_count": null,
      "outputs": []
    },
    {
      "cell_type": "markdown",
      "source": [
        "## Important Note"
      ],
      "metadata": {
        "id": "HzNLeA8t-XWU"
      },
      "id": "HzNLeA8t-XWU"
    },
    {
      "cell_type": "code",
      "source": [
        "#For machine learning use bagging and boosting, these do not need dealing with imbalance data. \n",
        "#Ensemble methods: Ensemble methods, such as bagging or boosting, can be effective in handling imbalanced datasets. \n",
        "#Techniques like Random Forests or Gradient Boosting can better handle class imbalance by combining multiple weak models.\n",
        "\n",
        "\n",
        "#For other machine learning deal with imbalance data by using SMOTE (Synthetic Minority Over-sampling Technique), or ADASYN (Adaptive Synthetic Sampling).\n",
        "#"
      ],
      "metadata": {
        "id": "9EbzBTyK9Iys"
      },
      "id": "9EbzBTyK9Iys",
      "execution_count": null,
      "outputs": []
    },
    {
      "cell_type": "code",
      "source": [
        "y= c_data['Churn']                         # Target Variable\n",
        "X = c_data.drop('Churn', axis =1)          # Independent Variable"
      ],
      "metadata": {
        "id": "MZCpEQHdkwG7"
      },
      "id": "MZCpEQHdkwG7",
      "execution_count": null,
      "outputs": []
    },
    {
      "cell_type": "code",
      "source": [
        "scaler = StandardScaler()\n",
        "cs = scaler.fit_transform(X)\n",
        "csn = pd.DataFrame(cs, columns = X.columns)\n",
        "csn.head(5)"
      ],
      "metadata": {
        "id": "5c313ogekvin"
      },
      "id": "5c313ogekvin",
      "execution_count": null,
      "outputs": []
    },
    {
      "cell_type": "code",
      "source": [
        "def plot_metric(confusion, name):\n",
        "    group_names = ['True Neg','False Pos','False Neg','True Pos']\n",
        "    group_counts = [\"{0:0.0f}\".format(value) for value in\n",
        "    confusion.flatten()]\n",
        "    group_percentages = [\"{0:.2%}\".format(value) for value in\n",
        "    confusion.flatten()/np.sum(confusion)]\n",
        "    labels = [f\"{v1}\\n{v2}\\n{v3}\" for v1, v2, v3 in\n",
        "    zip(group_names,group_counts,group_percentages)]\n",
        "    labels = np.asarray(labels).reshape(2,2)\n",
        "    ax = sns.heatmap(confusion, annot=labels, fmt='', cmap='viridis')\n",
        "    ax.set_title(f'{name}\\n\\n');\n",
        "    ax.set_xlabel('\\nPredicted Values')\n",
        "    ax.set_ylabel('Actual Values ');\n",
        "    ## Ticket labels - List must be in alphabetical order\n",
        "    ax.xaxis.set_ticklabels(['False','True'])\n",
        "    ax.yaxis.set_ticklabels(['False','True'])\n",
        "    ## Display the visualization of the Confusion Matrix.\n",
        "    plt.show()"
      ],
      "metadata": {
        "id": "S36n4-NGjruh"
      },
      "id": "S36n4-NGjruh",
      "execution_count": null,
      "outputs": []
    },
    {
      "cell_type": "markdown",
      "source": [
        "## Machine Models With Resampling"
      ],
      "metadata": {
        "id": "o8_qFrGFvAFM"
      },
      "id": "o8_qFrGFvAFM"
    },
    {
      "cell_type": "code",
      "source": [
        "X_resampled,y_resampled = ADASYN().fit_resample(X,y)\n",
        "X_resampled.shape,y_resampled.shape"
      ],
      "metadata": {
        "id": "dW4_zeo09Iru"
      },
      "id": "dW4_zeo09Iru",
      "execution_count": null,
      "outputs": []
    },
    {
      "cell_type": "code",
      "source": [
        "print('Original dataset shape {}'.format(Counter(y)))\n",
        "print('Resampled dataset shape {}'.format(Counter(y_resampled)))"
      ],
      "metadata": {
        "id": "gVGYzwUyjsIG"
      },
      "id": "gVGYzwUyjsIG",
      "execution_count": null,
      "outputs": []
    },
    {
      "cell_type": "code",
      "source": [
        "X_s = X_resampled\n",
        "y_s = y_resampled"
      ],
      "metadata": {
        "id": "HfSB7Qd6jsAg"
      },
      "id": "HfSB7Qd6jsAg",
      "execution_count": null,
      "outputs": []
    },
    {
      "cell_type": "code",
      "source": [
        "# split data into train+validation set and test set\n",
        "X_trainval, X_test, y_trainval, y_test = train_test_split(X_s, y_s, random_state=0)\n",
        "\n",
        "# split train+validation set into training and validation sets\n",
        "X_train, X_valid, y_train, y_valid = train_test_split(X_trainval, y_trainval, random_state=1)\n",
        "\n",
        "print(\"Size of training set: {}\\n size of validation set: {}\\n size of test set:\" \" {}\\n\".format(X_train.shape[0], X_valid.shape[0], X_test.shape[0]))\n"
      ],
      "metadata": {
        "id": "jh1IrjOKjr58"
      },
      "id": "jh1IrjOKjr58",
      "execution_count": null,
      "outputs": []
    },
    {
      "cell_type": "markdown",
      "source": [
        "### Logistic Regression"
      ],
      "metadata": {
        "id": "iQW6gXvzEh2U"
      },
      "id": "iQW6gXvzEh2U"
    },
    {
      "cell_type": "code",
      "source": [
        "LPlr = LogisticRegression()\n",
        "\n",
        "# Fit 'LPknn' to the training set\n",
        "LPlr.fit(X_train, y_train)\n",
        "\n",
        "# Predict Output\n",
        "ly_predict = LPlr.predict(X_valid)\n",
        "pred_LPlr = LPlr.predict_proba(X_valid)[:,1]\n",
        "\n",
        "#Train and Test Scores\n",
        "LPlr_Tr_Score = round(LPlr.score(X_train, y_train)*100, 2)\n",
        "LPlr_Tt_Score = round(LPlr.score(X_valid, y_valid)*100, 2)\n",
        "print('train set score: {:.2f}'.format(LPlr_Tr_Score))\n",
        "print('test set score: {:.2f}'.format(LPlr_Tt_Score))\n",
        "\n",
        "\n",
        "print()\n",
        "LPlr_sc = round(accuracy_score(y_valid, ly_predict)*100, 2)\n",
        "print(\"Accuracy Score: {}%\".format(LPlr_sc))\n",
        "print()\n",
        "PS_lr = round(precision_score(y_valid, ly_predict)*100, 2)\n",
        "print(\"Precision Score: {}%\".format(PS_lr))\n",
        "print()\n",
        "RS_lr = round(recall_score(y_valid, ly_predict)*100, 2)\n",
        "print(\"Recall Score: {}%\".format(RS_lr))\n",
        "print()\n",
        "FS_lr = round(f1_score(y_valid, ly_predict)*100, 2)\n",
        "print(\"F1 Score: {}%\".format(FS_lr))\n",
        "print()\n",
        "fpr1, tpr1, threshold = roc_curve(y_valid, pred_LPlr)\n",
        "roc_auc = metrics.auc(fpr1, tpr1)\n",
        "LPlrA = round(metrics.auc(fpr1, tpr1)*100, 2)\n",
        "print(f'AUC score is:', LPlrA,'%')\n",
        "print()\n",
        "confusion = confusion_matrix(y_valid, ly_predict)\n",
        "#print(\"Confusion matrix:\\n{}\".format(confusion))\n",
        "plot_metric(confusion, \"Logistic Regression\")"
      ],
      "metadata": {
        "id": "aBlPfoscEhLz"
      },
      "id": "aBlPfoscEhLz",
      "execution_count": null,
      "outputs": []
    },
    {
      "cell_type": "markdown",
      "source": [
        "#### **Confusion Matrix**\n",
        "- **Logistic Regression Classifier** classified **740** about **38%**, correctly  **[True Negative]**, which is the correct prediction of customers who did not churn and failed to classify **245** about **13%**, correctly **[False Positive]**, which is the incorrect prediction of customers who did not churn.\n",
        "\n",
        "- **Logistic Regression Classifier** classified **786** about **40%**, correctly  **[True Positive]**, which is the correct prediction of customers who churn and failed to classify **178** about **9%**, correctly **[False Negative]**, which is the incorrect prediction of customeers who did churn."
      ],
      "metadata": {
        "id": "rWXCBduWkDBL"
      },
      "id": "rWXCBduWkDBL"
    },
    {
      "cell_type": "markdown",
      "source": [
        "### RandomForest"
      ],
      "metadata": {
        "id": "ka3zWB5-uiHs"
      },
      "id": "ka3zWB5-uiHs"
    },
    {
      "cell_type": "code",
      "source": [
        "crf = RandomForestClassifier()\n",
        "# Fit 'LPknn' to the training set\n",
        "crf.fit(X_train, y_train)\n",
        "\n",
        "# Predict Output\n",
        "crf_predict = crf.predict(X_valid)\n",
        "pred_crf = crf.predict_proba(X_valid)[:,1]\n",
        "\n",
        "#Train and Test Scores\n",
        "crf_Tr_Score = round(crf.score(X_train, y_train)*100, 2)\n",
        "crf_Tt_Score = round(crf.score(X_valid, y_valid)*100, 2)\n",
        "print('train set score: {:.2f}'.format(crf_Tr_Score))\n",
        "print('test set score: {:.2f}'.format(crf_Tt_Score))\n",
        "\n",
        "\n",
        "\n",
        "print()\n",
        "crf_sc = round(accuracy_score(y_valid, crf_predict)*100, 2)\n",
        "print(\"Accuracy Score: {}%\".format(crf_sc))\n",
        "print()\n",
        "PS_crf = round(precision_score(y_valid, crf_predict)*100, 2)\n",
        "print(\"Precision Score: {}%\".format(PS_crf))\n",
        "print()\n",
        "RS_crf = round(recall_score(y_valid, crf_predict)*100, 2)\n",
        "print(\"Recall Score: {}%\".format(RS_crf))\n",
        "print()\n",
        "FS_crf = round(f1_score(y_valid, crf_predict)*100, 2)\n",
        "print(\"F1 Score: {}%\".format(FS_crf))\n",
        "print()\n",
        "fpr2, tpr2, threshold = roc_curve(y_valid, pred_crf)\n",
        "roc_auc = metrics.auc(fpr2, tpr2)\n",
        "crfA = round(metrics.auc(fpr2, tpr2)*100, 2)\n",
        "print(f'AUC score is:', crfA,'%')\n",
        "print()\n",
        "confusion = confusion_matrix(y_valid, crf_predict)\n",
        "#print(\"Confusion matrix:\\n{}\".format(confusion))\n",
        "plot_metric(confusion, \"Random Forest\")"
      ],
      "metadata": {
        "id": "ThvBSU62ui7z"
      },
      "id": "ThvBSU62ui7z",
      "execution_count": null,
      "outputs": []
    },
    {
      "cell_type": "markdown",
      "source": [
        "#### **Confusion Matrix**\n",
        "- **Random Forest Classifier** classified **827** about **42%**, correctly  **[True Negative]**, which is the correct prediction of customers who did not churn and failed to classify **158** about **8%**, correctly **[False Positive]**, which is the incorrect prediction of customers who did not churn.\n",
        "\n",
        "- **Random Forest Classifier** classified **801** about **41%**, correctly  **[True Positive]**, which is the correct prediction of customers who churn and failed to classify **163** about **8%**, correctly **[False Negative]**, which is the incorrect prediction of customeers who did churn."
      ],
      "metadata": {
        "id": "CFIH66qlkAnS"
      },
      "id": "CFIH66qlkAnS"
    },
    {
      "cell_type": "code",
      "source": [],
      "metadata": {
        "id": "sF_1VpBZjrnz"
      },
      "id": "sF_1VpBZjrnz",
      "execution_count": null,
      "outputs": []
    },
    {
      "cell_type": "code",
      "source": [],
      "metadata": {
        "id": "E9HvTAskjrg-"
      },
      "id": "E9HvTAskjrg-",
      "execution_count": null,
      "outputs": []
    },
    {
      "cell_type": "markdown",
      "source": [
        "### Support Vector Machine\n"
      ],
      "metadata": {
        "id": "cdg3FZsHhLzh"
      },
      "id": "cdg3FZsHhLzh"
    },
    {
      "cell_type": "code",
      "source": [
        "csvc = SVC(gamma='auto', probability=True)\n",
        "# Fit 'LPknn' to the training set\n",
        "csvc.fit(X_train, y_train)\n",
        "\n",
        "# Predict Output\n",
        "csvc_predict = csvc.predict(X_valid)\n",
        "pred_csvc = csvc.predict_proba(X_valid)[:,1]\n",
        "#pred_crf = crf.predict_proba(X_valid)[:,1]\n",
        "\n",
        "#Train and Test Scores\n",
        "csvc_Tr_Score = round(csvc.score(X_train, y_train)*100, 2)\n",
        "csvc_Tt_Score = round(csvc.score(X_valid, y_valid)*100, 2)\n",
        "print('train set score: {:.2f}'.format(csvc_Tr_Score))\n",
        "print('test set score: {:.2f}'.format(csvc_Tt_Score))\n",
        "\n",
        "\n",
        "\n",
        "print()\n",
        "csvc_sc = round(accuracy_score(y_valid, csvc_predict)*100, 2)\n",
        "print(\"Accuracy Score: {}%\".format(csvc_sc))\n",
        "print()\n",
        "PS_csvc = round(precision_score(y_valid, csvc_predict)*100, 2)\n",
        "print(\"Precision Score: {}%\".format(PS_csvc))\n",
        "print()\n",
        "RS_csvc = round(recall_score(y_valid, csvc_predict)*100, 2)\n",
        "print(\"Recall Score: {}%\".format(RS_csvc))\n",
        "print()\n",
        "FS_csvc = round(f1_score(y_valid, csvc_predict)*100, 2)\n",
        "print(\"F1 Score: {}%\".format(FS_csvc))\n",
        "print()\n",
        "fpr3, tpr3, threshold = roc_curve(y_valid, pred_csvc)\n",
        "roc_auc = metrics.auc(fpr3, tpr3)\n",
        "csvcA = round(metrics.auc(fpr3, tpr3)*100, 2)\n",
        "print(f'AUC score is:', csvcA,'%')\n",
        "print()\n",
        "confusion = confusion_matrix(y_valid, csvc_predict)\n",
        "#print(\"Confusion matrix:\\n{}\".format(confusion))\n",
        "plot_metric(confusion, \"Support Vector Machine\")"
      ],
      "metadata": {
        "id": "Ild_UgjBhMwU"
      },
      "id": "Ild_UgjBhMwU",
      "execution_count": null,
      "outputs": []
    },
    {
      "cell_type": "markdown",
      "source": [
        "#### **Confusion Matrix**\n",
        "- **Support Vector Machine Classifier** classified **810** about **42%**, correctly  **[True Negative]**, which is the correct prediction of customers who did not churn and failed to classify **175** about **9%**, correctly **[False Positive]**, which is the incorrect prediction of customers who did not churn.\n",
        "\n",
        "- **Support Vector Machine Classifier** classified **709** about **36%**, correctly  **[True Positive]**, which is the correct prediction of customers who churn and failed to classify **255** about **13%**, correctly **[False Negative]**, which is the incorrect prediction of customeers who did churn."
      ],
      "metadata": {
        "id": "AHSDVeq6j9mT"
      },
      "id": "AHSDVeq6j9mT"
    },
    {
      "cell_type": "code",
      "source": [],
      "metadata": {
        "id": "jlYrhCu3hNuG"
      },
      "id": "jlYrhCu3hNuG",
      "execution_count": null,
      "outputs": []
    },
    {
      "cell_type": "code",
      "source": [],
      "metadata": {
        "id": "AL0mpFNYhNR7"
      },
      "id": "AL0mpFNYhNR7",
      "execution_count": null,
      "outputs": []
    },
    {
      "cell_type": "markdown",
      "source": [
        "### K- Nearest Neighbors"
      ],
      "metadata": {
        "id": "WjwOtXVehOjZ"
      },
      "id": "WjwOtXVehOjZ"
    },
    {
      "cell_type": "code",
      "source": [
        "cknn = KNeighborsClassifier(n_neighbors=7)\n",
        "\n",
        "# Fit 'LPknn' to the training set\n",
        "cknn.fit(X_train, y_train)\n",
        "\n",
        "# Predict Output\n",
        "cknn_predict = cknn.predict(X_valid)\n",
        "pred_cknn = cknn.predict_proba(X_valid)[:,1]\n",
        "\n",
        "#Train and Test Scores\n",
        "cknn_Tr_Score = round(cknn.score(X_train, y_train)*100, 2)\n",
        "cknn_Tt_Score = round(cknn.score(X_valid, y_valid)*100, 2)\n",
        "print('train set score: {:.2f}'.format(cknn_Tr_Score))\n",
        "print('test set score: {:.2f}'.format(cknn_Tt_Score))\n",
        "\n",
        "\n",
        "\n",
        "print()\n",
        "cknn_sc = round(accuracy_score(y_valid, cknn_predict)*100, 2)\n",
        "print(\"Accuracy Score: {}%\".format(cknn_sc))\n",
        "print()\n",
        "PS_cknn = round(precision_score(y_valid, cknn_predict)*100, 2)\n",
        "print(\"Precision Score: {}%\".format(PS_cknn))\n",
        "print()\n",
        "RS_cknn = round(recall_score(y_valid, cknn_predict)*100, 2)\n",
        "print(\"Recall Score: {}%\".format(RS_cknn))\n",
        "print()\n",
        "FS_cknn = round(f1_score(y_valid, cknn_predict)*100, 2)\n",
        "print(\"F1 Score: {}%\".format(FS_cknn))\n",
        "print()\n",
        "fpr4, tpr4, threshold = roc_curve(y_valid, pred_cknn)\n",
        "roc_auc = metrics.auc(fpr4, tpr4)\n",
        "cknnA = round(metrics.auc(fpr4, tpr4)*100, 2)\n",
        "print(f'AUC score is:', cknnA,'%')\n",
        "print()\n",
        "confusion = confusion_matrix(y_valid, cknn_predict)\n",
        "#print(\"Confusion matrix:\\n{}\".format(confusion))\n",
        "plot_metric(confusion, \"K- Nearest Neighbors\")"
      ],
      "metadata": {
        "id": "aKlP8qhQhQIj"
      },
      "id": "aKlP8qhQhQIj",
      "execution_count": null,
      "outputs": []
    },
    {
      "cell_type": "markdown",
      "source": [
        "#### **Confusion Matrix**\n",
        "- **K- Nearest Neighbors Classifier** classified **629** about **32%**, correctly  **[True Negative]**, which is the correct prediction of customers who did not churn and failed to classify **356** about **18%**, correctly **[False Positive]**, which is the incorrect prediction of customers who did not churn.\n",
        "\n",
        "- **K- Nearest Neighbors Classifier** classified **789** about **40%**, correctly  **[True Positive]**, which is the correct prediction of customers who churn and failed to classify **175** about **9%**, correctly **[False Negative]**, which is the incorrect prediction of customeers who did churn."
      ],
      "metadata": {
        "id": "-dFndReIj6vn"
      },
      "id": "-dFndReIj6vn"
    },
    {
      "cell_type": "code",
      "source": [],
      "metadata": {
        "id": "1MXHWmCehRmP"
      },
      "id": "1MXHWmCehRmP",
      "execution_count": null,
      "outputs": []
    },
    {
      "cell_type": "markdown",
      "source": [
        "### Extra Trees Classifier"
      ],
      "metadata": {
        "id": "o1Lbj5Hsy9Jb"
      },
      "id": "o1Lbj5Hsy9Jb"
    },
    {
      "cell_type": "code",
      "source": [
        "crc = ExtraTreesClassifier()\n",
        "\n",
        "# Fit 'LPknn' to the training set\n",
        "crc.fit(X_train, y_train)\n",
        "\n",
        "# Predict Output\n",
        "crc_predict = crc.predict(X_valid)\n",
        "pred_crc = crc.predict_proba(X_valid)[:,1]\n",
        "\n",
        "#Train and Test Scores\n",
        "crc_Tr_Score = round(crc.score(X_train, y_train)*100, 2)\n",
        "crc_Tt_Score = round(crc.score(X_valid, y_valid)*100, 2)\n",
        "print('train set score: {:.2f}'.format(crc_Tr_Score))\n",
        "print('test set score: {:.2f}'.format(crc_Tt_Score))\n",
        "\n",
        "\n",
        "\n",
        "print()\n",
        "crc_sc = round(accuracy_score(y_valid, crc_predict)*100, 2)\n",
        "print(\"Accuracy Score: {}%\".format(crc_sc))\n",
        "print()\n",
        "PS_crc = round(precision_score(y_valid, crc_predict)*100, 2)\n",
        "print(\"Precision Score: {}%\".format(PS_crc))\n",
        "print()\n",
        "RS_crc = round(recall_score(y_valid, crc_predict)*100, 2)\n",
        "print(\"Recall Score: {}%\".format(RS_crc))\n",
        "print()\n",
        "FS_crc = round(f1_score(y_valid, crc_predict)*100, 2)\n",
        "print(\"F1 Score: {}%\".format(FS_crc))\n",
        "print()\n",
        "fpr5, tpr5, threshold = roc_curve(y_valid, pred_crc)\n",
        "roc_auc = metrics.auc(fpr5, tpr5)\n",
        "crcA = round(metrics.auc(fpr5, tpr5)*100, 2)\n",
        "print(f'AUC score is:', crcA,'%')\n",
        "print()\n",
        "confusion = confusion_matrix(y_valid, crc_predict)\n",
        "#print(\"Confusion matrix:\\n{}\".format(confusion))\n",
        "plot_metric(confusion, \"Extra Trees Classifier\")"
      ],
      "metadata": {
        "id": "fMrY7XHAhRPm"
      },
      "id": "fMrY7XHAhRPm",
      "execution_count": null,
      "outputs": []
    },
    {
      "cell_type": "markdown",
      "source": [
        "#### **Confusion Matrix**\n",
        "- **Extra Trees Classifier** classified **826** about **42%**, correctly  **[True Negative]**, which is the correct prediction of customers who did not churn and failed to classify **159** about **8%**, correctly **[False Positive]**, which is the incorrect prediction of customers who did not churn.\n",
        "\n",
        "- **Extra Trees Classifier** classified **783** about **40%**, correctly  **[True Positive]**, which is the correct prediction of customers who churn and failed to classify **181** about **9%**, correctly **[False Negative]**, which is the incorrect prediction of customeers who did churn."
      ],
      "metadata": {
        "id": "u0aW3yfHj4xV"
      },
      "id": "u0aW3yfHj4xV"
    },
    {
      "cell_type": "code",
      "source": [],
      "metadata": {
        "id": "qsyn269ahQuP"
      },
      "id": "qsyn269ahQuP",
      "execution_count": null,
      "outputs": []
    },
    {
      "cell_type": "code",
      "source": [],
      "metadata": {
        "id": "P8RIOLMAtfR-"
      },
      "id": "P8RIOLMAtfR-",
      "execution_count": null,
      "outputs": []
    },
    {
      "cell_type": "markdown",
      "source": [
        "### Histogram-based Gradient Boosting Classification Tree \n",
        "\n"
      ],
      "metadata": {
        "id": "vpccXnUchSle"
      },
      "id": "vpccXnUchSle"
    },
    {
      "cell_type": "code",
      "source": [],
      "metadata": {
        "id": "ulmyMPTgtd3X"
      },
      "id": "ulmyMPTgtd3X",
      "execution_count": null,
      "outputs": []
    },
    {
      "cell_type": "code",
      "source": [
        "LPdt = HistGradientBoostingClassifier() \n",
        "\n",
        "#Fit 'LPdt' to the training set\n",
        "LPdt.fit(X_train, y_train)\n",
        "\n",
        "# Predict Output\n",
        "dy_predict = LPdt.predict(X_valid)\n",
        "pred_LPdt = LPdt.predict_proba(X_valid)[:,1]\n",
        "\n",
        "#Train and Test Scores\n",
        "LPdt_Tr_Score = round(LPdt.score(X_train, y_train)*100, 2)\n",
        "LPdt_Tt_Score = round(LPdt.score(X_valid, y_valid)*100, 2)\n",
        "print('train set score: {:.2f}'.format(LPdt_Tr_Score))\n",
        "print('test set score: {:.2f}'.format(LPdt_Tt_Score))\n",
        "\n",
        "\n",
        "print()\n",
        "LPdt_sc = round(accuracy_score(y_valid, dy_predict)*100, 2)\n",
        "print(\"Accuracy Score: {}%\".format(LPdt_sc))\n",
        "print()\n",
        "PS_dt = round(precision_score(y_valid, dy_predict)*100, 2)\n",
        "print(\"Precision Score: {}%\".format(PS_dt))\n",
        "print()\n",
        "RS_dt = round(recall_score(y_valid, dy_predict)*100, 2)\n",
        "print(\"Recall Score: {}%\".format(RS_dt))\n",
        "print()\n",
        "FS_dt = round(f1_score(y_valid, dy_predict)*100, 2)\n",
        "print(\"F1 Score: {}%\".format(FS_dt))\n",
        "print()\n",
        "fpr6, tpr6, threshold = roc_curve(y_valid, pred_LPdt)\n",
        "roc_auc = metrics.auc(fpr6, tpr6)\n",
        "LPhgbA = round(metrics.auc(fpr6, tpr6)*100, 2)\n",
        "print(f'AUC score is:', LPhgbA,'%')\n",
        "print()\n",
        "confusion = confusion_matrix(y_valid, dy_predict)\n",
        "#print(\"Confusion matrix:\\n{}\".format(confusion))\n",
        "print()\n",
        "plot_metric(confusion, \"HistGradientBoosting\")"
      ],
      "metadata": {
        "id": "XO0yoejehURU"
      },
      "id": "XO0yoejehURU",
      "execution_count": null,
      "outputs": []
    },
    {
      "cell_type": "markdown",
      "source": [
        "#### **Confusion Matrix**\n",
        "- **Histogram-based Gradient Boosting Classifier** classified **814** about **42%**, correctly  **[True Negative]**, which is the correct prediction of customers who did not churn and failed to classify **171** about **9%**, correctly **[False Positive]**, which is the incorrect prediction of customers who did not churn.\n",
        "\n",
        "- **Histogram-based Gradient Boosting Classifier** classified **801** about **41%**, correctly  **[True Positive]**, which is the correct prediction of customers who churn and failed to classify **163** about **8%**, correctly **[False Negative]**, which is the incorrect prediction of customeers who did churn."
      ],
      "metadata": {
        "id": "vAvRsyMqj1wr"
      },
      "id": "vAvRsyMqj1wr"
    },
    {
      "cell_type": "code",
      "source": [],
      "metadata": {
        "id": "lfLnv7MmhVbs"
      },
      "id": "lfLnv7MmhVbs",
      "execution_count": null,
      "outputs": []
    },
    {
      "cell_type": "code",
      "source": [],
      "metadata": {
        "id": "o3gh8PX_hVCO"
      },
      "id": "o3gh8PX_hVCO",
      "execution_count": null,
      "outputs": []
    },
    {
      "cell_type": "code",
      "source": [],
      "metadata": {
        "id": "T3qwJVdrhWCB"
      },
      "id": "T3qwJVdrhWCB",
      "execution_count": null,
      "outputs": []
    },
    {
      "cell_type": "markdown",
      "source": [
        "### AdaBoostClassifier"
      ],
      "metadata": {
        "id": "d8opPROnhbNZ"
      },
      "id": "d8opPROnhbNZ"
    },
    {
      "cell_type": "code",
      "source": [
        "LPrf = AdaBoostClassifier(n_estimators=100, random_state=0)\n",
        "\n",
        "#Fit 'LPrf' to the training set\n",
        "LPrf.fit(X_train, y_train)\n",
        "\n",
        "# Predict Output\n",
        "ry_predict = LPrf.predict(X_valid)\n",
        "pred_LPrf = LPrf.predict_proba(X_valid)[:,1]\n",
        "\n",
        "#Train and Test Scores\n",
        "LPrf_Tr_Score = round(LPrf.score(X_train, y_train)*100, 2)\n",
        "LPrf_Tt_Score = round(LPrf.score(X_valid, y_valid)*100, 2)\n",
        "print('train set score: {:.2f}'.format(LPrf_Tr_Score))\n",
        "print('test set score: {:.2f}'.format(LPrf_Tt_Score))\n",
        "\n",
        "\n",
        "print()\n",
        "LPrf_sc = round(accuracy_score(y_valid, ry_predict)*100, 2)\n",
        "print(\"Accuracy Score: {}%\".format(LPrf_sc))\n",
        "print()\n",
        "PS_rf = round(precision_score(y_valid, ry_predict)*100, 2)\n",
        "print(\"Precision Score: {}%\".format(PS_rf))\n",
        "print()\n",
        "RS_rf = round(recall_score(y_valid, ry_predict)*100, 2)\n",
        "print(\"Recall Score: {}%\".format(RS_rf))\n",
        "print()\n",
        "FS_rf = round(f1_score(y_valid, ry_predict)*100, 2)\n",
        "print(\"F1 Score: {}%\".format(FS_rf))\n",
        "print()\n",
        "fpr7, tpr7, threshold = roc_curve(y_valid, pred_LPrf)\n",
        "roc_auc = metrics.auc(fpr7, tpr7)\n",
        "LPabtA = round(metrics.auc(fpr7, tpr7)*100, 2)\n",
        "print(f'AUC score is:', LPabtA,'%')\n",
        "print()\n",
        "confusion = confusion_matrix(y_valid, ry_predict)\n",
        "#print(\"Confusion matrix:\\n{}\".format(confusion))\n",
        "print()\n",
        "plot_metric(confusion, \"AdaBoost\")"
      ],
      "metadata": {
        "id": "skJMnMuihcTO"
      },
      "id": "skJMnMuihcTO",
      "execution_count": null,
      "outputs": []
    },
    {
      "cell_type": "markdown",
      "source": [
        "#### **Confusion Matrix**\n",
        "- **AdaBoost Classifier** classified **765** about **39%**, correctly  **[True Negative]**, which is the correct prediction of customers who did not churn and failed to classify **220** about **11%**, correctly **[False Positive]**, which is the incorrect prediction of customers who did not churn.\n",
        "\n",
        "- **AdaBoost Classifier** classified **831** about **43%**, correctly  **[True Positive]**, which is the correct prediction of customers who churn and failed to classify **133** about **7%**, correctly **[False Negative]**, which is the incorrect prediction of customeers who did churn."
      ],
      "metadata": {
        "id": "XaUacM4IjzUI"
      },
      "id": "XaUacM4IjzUI"
    },
    {
      "cell_type": "code",
      "source": [],
      "metadata": {
        "id": "_7-X9wZwhdbG"
      },
      "id": "_7-X9wZwhdbG",
      "execution_count": null,
      "outputs": []
    },
    {
      "cell_type": "code",
      "source": [],
      "metadata": {
        "id": "5rKw3veWhdAB"
      },
      "id": "5rKw3veWhdAB",
      "execution_count": null,
      "outputs": []
    },
    {
      "cell_type": "code",
      "source": [],
      "metadata": {
        "id": "SX8kko1Ghcqs"
      },
      "id": "SX8kko1Ghcqs",
      "execution_count": null,
      "outputs": []
    },
    {
      "cell_type": "markdown",
      "source": [
        "### GradientBoostingClassifier\n"
      ],
      "metadata": {
        "id": "z_-HcmAqheNy"
      },
      "id": "z_-HcmAqheNy"
    },
    {
      "cell_type": "code",
      "source": [
        "LPgbm = GradientBoostingClassifier()\n",
        "\n",
        "#Fit 'LPsvm' to the training set\n",
        "LPgbm.fit(X_train, y_train)\n",
        "\n",
        "# Predict Output\n",
        "gy_predict = LPgbm.predict(X_valid)\n",
        "pred_LPgbm = LPgbm.predict_proba(X_valid)[:,1]\n",
        "\n",
        "\n",
        "#Train and Test Scores\n",
        "LPgbm_Tr_Score = round(LPgbm.score(X_train, y_train)*100, 2)\n",
        "LPgbm_Tt_Score = round(LPgbm.score(X_valid, y_valid)*100, 2)\n",
        "print('train set score: {:.2f}'.format(LPrf_Tr_Score))\n",
        "print('test set score: {:.2f}'.format(LPgbm_Tt_Score))\n",
        "\n",
        "\n",
        "print()\n",
        "LPgbm_sc = round(accuracy_score(y_valid, gy_predict)*100, 2)\n",
        "print(\"Accuracy Score: {}%\".format(LPgbm_sc))\n",
        "print()\n",
        "PS_gbm = round(precision_score(y_valid, gy_predict)*100, 2)\n",
        "print(\"Precision Score: {}%\".format(PS_gbm))\n",
        "print()\n",
        "RS_gbm = round(recall_score(y_valid, gy_predict)*100, 2)\n",
        "print(\"Recall Score: {}%\".format(RS_gbm))\n",
        "print()\n",
        "FS_gbm = round(f1_score(y_valid, gy_predict)*100, 2)\n",
        "print(\"F1 Score: {}%\".format(FS_gbm))\n",
        "print()\n",
        "fpr8, tpr8, threshold = roc_curve(y_valid, pred_LPgbm)\n",
        "roc_auc = metrics.auc(fpr8, tpr8)\n",
        "LPgbmA = round(metrics.auc(fpr8, tpr8)*100, 2)\n",
        "print(f'AUC score is:', LPgbmA,'%')\n",
        "print()\n",
        "confusion = confusion_matrix(y_valid, gy_predict)\n",
        "#print(\"Confusion matrix:\\n{}\".format(confusion))\n",
        "plot_metric(confusion, \"Gradient Boosting\")"
      ],
      "metadata": {
        "id": "rAl7IMG9hfDH"
      },
      "id": "rAl7IMG9hfDH",
      "execution_count": null,
      "outputs": []
    },
    {
      "cell_type": "markdown",
      "source": [
        "#### **Confusion Matrix**\n",
        "- **Gradient Boosting Classifier** classified **785** about **40%**, correctly  **[True Negative]**, which is the correct prediction of customers who did not churn and failed to classify **200** about **10%**, correctly **[False Positive]**, which is the incorrect prediction of customers who did not churn.\n",
        "\n",
        "- **Gradient Boosting Classifier** classified **821** about **42%**, correctly  **[True Positive]**, which is the correct prediction of customers who churn and failed to classify **143** about **7%**, correctly **[False Negative]**, which is the incorrect prediction of customeers who did churn.\n"
      ],
      "metadata": {
        "id": "warM36wWes9y"
      },
      "id": "warM36wWes9y"
    },
    {
      "cell_type": "code",
      "source": [],
      "metadata": {
        "id": "B4eBUjgohgOc"
      },
      "id": "B4eBUjgohgOc",
      "execution_count": null,
      "outputs": []
    },
    {
      "cell_type": "code",
      "source": [],
      "metadata": {
        "id": "7l9_bOljhfdi"
      },
      "id": "7l9_bOljhfdi",
      "execution_count": null,
      "outputs": []
    },
    {
      "cell_type": "markdown",
      "source": [
        "## Find the best Model"
      ],
      "metadata": {
        "id": "ce8yrquYaBkE"
      },
      "id": "ce8yrquYaBkE"
    },
    {
      "cell_type": "markdown",
      "source": [
        "### Evaluation Metric Summary"
      ],
      "metadata": {
        "id": "aOuMKXoQE8u8"
      },
      "id": "aOuMKXoQE8u8"
    },
    {
      "cell_type": "code",
      "source": [],
      "metadata": {
        "id": "YArV5eBSE5tq"
      },
      "id": "YArV5eBSE5tq",
      "execution_count": null,
      "outputs": []
    },
    {
      "cell_type": "code",
      "source": [
        "LPMetric = pd.DataFrame({'Models': [\"Logistic Regression\",\n",
        "                                    \"RandomForest\",\n",
        "                                    \"Support Vector Machine\",\n",
        "                                    \"K- Nearest Neighbors\",\n",
        "                                    \"Extra Trees Classifier\",  \n",
        "                                    \"HistGradientBoosting\",\n",
        "                                    \"AdaBoost\",\n",
        "                                    \"Gradient Boosting\"],\n",
        "                             'Accuracy Score': [LPlr_sc, crf_sc, csvc_sc, cknn_sc, crc_sc, LPdt_sc, LPrf_sc, LPgbm_sc],\n",
        "                             'Precision Score': [PS_lr, PS_crf, PS_csvc, PS_cknn, PS_crc, PS_dt, PS_rf, PS_gbm],\n",
        "                             'Recall Score': [RS_lr, RS_crf, RS_csvc, RS_cknn, RS_crc, RS_dt, RS_rf, RS_gbm],\n",
        "                             'F1 Score': [FS_lr, FS_crf, FS_csvc, FS_cknn, FS_crc, FS_dt, FS_rf, FS_gbm]})\n",
        "\n",
        "\n",
        "LPMetrics = LPMetric.sort_values(by = 'Accuracy Score',ascending = False)\n",
        "LPMetrics = LPMetrics.set_index('Models')\n",
        "LPMetrics"
      ],
      "metadata": {
        "id": "swE0AqX3GkmS"
      },
      "id": "swE0AqX3GkmS",
      "execution_count": null,
      "outputs": []
    },
    {
      "cell_type": "code",
      "source": [
        "plt.figure(figsize = (20,10))\n",
        "plt.plot(fpr1,tpr1, label = 'Logistic Regression ' 'AUC = %0.2f' %  LPlrA)\n",
        "plt.plot(fpr2,tpr2, label = 'RandomForest ' 'AUC = %0.2f' % crfA)\n",
        "plt.plot(fpr3,tpr3, label = 'Support Vector Machine ' 'AUC = %0.2f' % csvcA)\n",
        "plt.plot(fpr4,tpr4, label = 'K- Nearest Neighbors ' 'AUC = %0.2f' % cknnA)\n",
        "plt.plot(fpr5,tpr5, label = 'Extra Trees Classifier ' 'AUC = %0.2f' % crcA)\n",
        "plt.plot(fpr6,tpr6, label ='HistGradientBoosting ' 'AUC = %0.2f' % LPhgbA)\n",
        "plt.plot(fpr7,tpr7, label = 'AdaBoost Classifier ' 'AUC = %0.2f' % LPabtA)\n",
        "plt.plot(fpr8,tpr8, label = 'Gradient Boosting ' 'AUC = %0.2f' % LPgbmA)\n",
        "plt.legend(loc = 'best')\n",
        "plt.xlabel('FPR', fontsize = 15)\n",
        "plt.ylabel('TPR', fontsize = 15)\n",
        "plt.title('RECIEVER OPERATING CHARACTERISTICS', fontsize = 20)\n",
        "plt.show()"
      ],
      "metadata": {
        "id": "haztGGtEXt9l"
      },
      "id": "haztGGtEXt9l",
      "execution_count": null,
      "outputs": []
    },
    {
      "cell_type": "code",
      "source": [],
      "metadata": {
        "id": "tS2J33n-pPI8"
      },
      "id": "tS2J33n-pPI8",
      "execution_count": null,
      "outputs": []
    },
    {
      "cell_type": "markdown",
      "source": [
        "### **Feature Importance**"
      ],
      "metadata": {
        "id": "AlNOR9RJ_0Ik"
      },
      "id": "AlNOR9RJ_0Ik"
    },
    {
      "cell_type": "code",
      "source": [
        "importance = pd.DataFrame({'feature':X.columns,'importance':np.round(crf.feature_importances_,3)})\n",
        "importance = importance.sort_values('importance',ascending=False).set_index('feature')\n",
        "importance.head(30)"
      ],
      "metadata": {
        "id": "Q2PRvocj_9Wf"
      },
      "id": "Q2PRvocj_9Wf",
      "execution_count": null,
      "outputs": []
    },
    {
      "cell_type": "code",
      "source": [
        "importance.plot.barh()"
      ],
      "metadata": {
        "id": "-IBSXBbFEEUr"
      },
      "id": "-IBSXBbFEEUr",
      "execution_count": null,
      "outputs": []
    },
    {
      "cell_type": "markdown",
      "source": [
        "#### **Dropping insignificant features** "
      ],
      "metadata": {
        "id": "-EuUcIXFqVRo"
      },
      "id": "-EuUcIXFqVRo"
    },
    {
      "cell_type": "code",
      "source": [
        "X.drop('PhoneService', axis = 1, inplace = True)\n",
        "X.drop('SeniorCitizen', axis = 1, inplace = True)\n",
        "X.drop('StreamingMovies', axis = 1, inplace = True)\n",
        "X.drop('StreamingTV', axis = 1, inplace = True)\n",
        "X.head()"
      ],
      "metadata": {
        "id": "G4Lf_p4dEGk7"
      },
      "id": "G4Lf_p4dEGk7",
      "execution_count": null,
      "outputs": []
    },
    {
      "cell_type": "code",
      "source": [
        "#from sklearn.ensemble import \n",
        "model = RandomForestClassifier()\n",
        "\n",
        "\n",
        "# define grid search\n",
        "grid = {\n",
        "    'n_estimators': [100, 200, 300],  # try different number of trees\n",
        "    'max_depth': [None, 5, 10],       # try different maximum depth values\n",
        "    #'min_samples_split': [2, 5, 10],  # try different values for minimum samples required to split\n",
        "    #'min_samples_leaf': [1, 2, 4],    # try different values for minimum samples required at a leaf node\n",
        "    'max_features': ['sqrt', 'log2'], # try different options for the number of features to consider\n",
        "    #'criterion': ['gini', 'entropy']  # try different quality measures\n",
        "}\n",
        "cv = RepeatedStratifiedKFold(n_splits=10, n_repeats=3, random_state=1)\n",
        "grid_search = GridSearchCV(estimator=model, param_grid=grid, n_jobs=-1, cv=cv, scoring='accuracy',error_score=0)\n",
        "grid_result = grid_search.fit(X_train, y_train)\n",
        "\n",
        "# summarize results\n",
        "print(\"Best: %f using %s\" % (grid_result.best_score_, grid_result.best_params_))\n",
        "\n",
        "LPdt = RandomForestClassifier(**grid_result.best_params_, max_bins=255, max_iter=100)\n",
        "\n",
        "#Fit 'LPdt' to the training set\n",
        "LPdt.fit(X_trainval, y_trainval)\n",
        "\n",
        "# Predict Output\n",
        "dy_predict = LPdt.predict(X_test)\n",
        "pred_LPdt = LPdt.predict_proba(X_test)[:,1]\n",
        "\n",
        "#Train and Test Scores\n",
        "LPdt_Tr_Score = round(LPdt.score(X_trainval, y_trainval)*100, 2)\n",
        "LPdt_Tt_Score = round(LPdt.score(X_test, y_test)*100, 2)\n",
        "print('train set score: {:.2f}'.format(LPdt_Tr_Score))\n",
        "print('test set score: {:.2f}'.format(LPdt_Tt_Score))"
      ],
      "metadata": {
        "id": "B5olqH86sNj6"
      },
      "id": "B5olqH86sNj6",
      "execution_count": null,
      "outputs": []
    }
  ],
  "metadata": {
    "kernelspec": {
      "display_name": "Python 3 (ipykernel)",
      "language": "python",
      "name": "python3"
    },
    "language_info": {
      "codemirror_mode": {
        "name": "ipython",
        "version": 3
      },
      "file_extension": ".py",
      "mimetype": "text/x-python",
      "name": "python",
      "nbconvert_exporter": "python",
      "pygments_lexer": "ipython3",
      "version": "3.9.12"
    },
    "colab": {
      "provenance": [],
      "collapsed_sections": [
        "da5b9cc7",
        "b4c22954",
        "CahCJVIHEKUL",
        "OWz7KvqM5F0w",
        "PDb5jH35CUAU",
        "6c5039f2",
        "b7OPgerVPyoh",
        "ku5dWtyIGjCc",
        "L9W_xC75GoF-",
        "w79U55OqHymX",
        "hlnakX99HtRc",
        "neJ7ruR7HnF7",
        "MS0NM1vJHRcd",
        "QwMFs7ln-4BJ",
        "Ur5bczYJQIkg"
      ],
      "include_colab_link": true
    }
  },
  "nbformat": 4,
  "nbformat_minor": 5
}